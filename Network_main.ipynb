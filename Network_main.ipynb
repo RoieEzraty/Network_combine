{
 "cells": [
  {
   "cell_type": "code",
   "execution_count": 1,
   "id": "096421ca",
   "metadata": {},
   "outputs": [
    {
     "name": "stderr",
     "output_type": "stream",
     "text": [
      "Version 1.0.5\n"
     ]
    }
   ],
   "source": [
    "%load_ext nb_mypy\n",
    "%nb_mypy On"
   ]
  },
  {
   "cell_type": "code",
   "execution_count": 13,
   "id": "6b12612a",
   "metadata": {},
   "outputs": [],
   "source": [
    "from __future__ import annotations\n",
    "import numpy as np\n",
    "import random\n",
    "import copy\n",
    "\n",
    "from typing import Tuple, List\n",
    "from numpy import array, zeros\n",
    "\n",
    "from Big_Class import Big_Class  # already imported one NETfuncs is imported\n",
    "from User_Variables import User_Variables  # already imported one NETfuncs is imported\n",
    "import NETfuncs, matrix_functions, functions, statistics, plot_functions, solve"
   ]
  },
  {
   "cell_type": "code",
   "execution_count": 3,
   "id": "c542e319",
   "metadata": {},
   "outputs": [],
   "source": [
    "## Parameters\n",
    "\n",
    "Nin: int = 2\n",
    "Nout: int = 2\n",
    "\n",
    "# learning rate\n",
    "# alpha_vec = np.array([0.2, 0.5, 1.0, 2.0, 2.5, 2.7, 3.5, 4.0, 8.0])  # 1D array = const alpha, array of arrays = annealed\n",
    "# alpha_vec = np.array([np.append(np.linspace(4.1,4.8,200), np.linspace(4.8,4.1,200))])  # 1D array for constant alpha, array of arrays for annealed alpha\n",
    "alpha_vec: np.ndarray = np.array([0.2])  # for allostery, regression and general_reg\n",
    "# alpha_vec = np.array([0.1])  # for general_reg_allRsChange\n",
    "# alpha_vec = np.array([np.linspace(5,3.85,40)])  # 1D array for constant alpha, array of arrays for annealed alpha\n",
    "# alpha_vec = np.array([4.8])\n",
    "\n",
    "# resistance-pressure proportionality factor\n",
    "gamma: np.ndarray = np.array([1.0])\n",
    "\n",
    "# task - allostery or regression by now\n",
    "# task_type: str =  'Allostery'\n",
    "# task_type: str = 'Regression'\n",
    "# task_type: str = 'General_reg'\n",
    "# task_type: str = 'General_reg_allRsChange'\n",
    "task_type: str = '2by2'\n",
    "# task_type: str = '2by2_allRsChange'\n",
    "\n",
    "R_update: str = 'propto'\n",
    "# R_update = 'deltaR'\n",
    "\n",
    "# training length\n",
    "if np.size(alpha_vec[0])>1:  # if alpha is annealed\n",
    "    iterations: int = len(alpha_vec[0])\n",
    "else:\n",
    "    iterations = 320\n",
    "    \n",
    "supress_prints: bool = False\n",
    "bc_noise: float = 0.0\n",
    "use_p_tag: bool = True"
   ]
  },
  {
   "cell_type": "code",
   "execution_count": 4,
   "id": "8b852908",
   "metadata": {},
   "outputs": [],
   "source": [
    "## Assign input and output nodes a.f.o lattice size and row choice\n",
    "input_nodes_lst, ground_nodes_lst, output_nodes_lst = matrix_functions.build_input_output_and_ground(Nin, Nout)"
   ]
  },
  {
   "cell_type": "code",
   "execution_count": 5,
   "id": "181d8c02",
   "metadata": {},
   "outputs": [
    {
     "name": "stdout",
     "output_type": "stream",
     "text": [
      "input_nodes_lst  [0 1]\n",
      "output_nodes_lst  [2 3]\n",
      "ground_nodes_lst  [4]\n"
     ]
    }
   ],
   "source": [
    "print('input_nodes_lst ', input_nodes_lst)\n",
    "print('output_nodes_lst ', output_nodes_lst)\n",
    "print('ground_nodes_lst ', ground_nodes_lst)"
   ]
  },
  {
   "cell_type": "code",
   "execution_count": 6,
   "id": "7ee07fdf",
   "metadata": {},
   "outputs": [],
   "source": [
    "## Variables class - mostly user choices\n",
    "Variabs = User_Variables(iterations,\\\n",
    "                         input_nodes_lst, \\\n",
    "                         output_nodes_lst, \\\n",
    "                         ground_nodes_lst, \\\n",
    "                         Nin, \\\n",
    "                         Nout, \\\n",
    "                         alpha_vec, \\\n",
    "                         gamma, \\\n",
    "                         task_type, \\\n",
    "                         R_update, \\\n",
    "                         use_p_tag, \\\n",
    "                         supress_prints, \\\n",
    "                         bc_noise)"
   ]
  },
  {
   "cell_type": "code",
   "execution_count": 11,
   "id": "76f6c4dd",
   "metadata": {},
   "outputs": [
    {
     "name": "stderr",
     "output_type": "stream",
     "text": [
      "<cell>5: \u001b[1m\u001b[91merror:\u001b[0m Name \u001b[0m\u001b[1m\"solver\"\u001b[0m is not defined  \u001b[0m\u001b[93m[name-defined]\u001b[0m\n"
     ]
    },
    {
     "ename": "NameError",
     "evalue": "name 'solver' is not defined",
     "output_type": "error",
     "traceback": [
      "\u001b[1;31m---------------------------------------------------------------------------\u001b[0m",
      "\u001b[1;31mNameError\u001b[0m                                 Traceback (most recent call last)",
      "Cell \u001b[1;32mIn[11], line 5\u001b[0m\n\u001b[0;32m      2\u001b[0m BigClass \u001b[38;5;241m=\u001b[39m Big_Class(Variabs)\n\u001b[0;32m      4\u001b[0m \u001b[38;5;66;03m# CPU or GPU usage\u001b[39;00m\n\u001b[1;32m----> 5\u001b[0m BigClass\u001b[38;5;241m.\u001b[39massign_solver(\u001b[43msolver\u001b[49m)\n",
      "\u001b[1;31mNameError\u001b[0m: name 'solver' is not defined"
     ]
    }
   ],
   "source": [
    "## Big Class containing all classes in Network Simulation\n",
    "BigClass = Big_Class(Variabs)"
   ]
  },
  {
   "cell_type": "code",
   "execution_count": null,
   "id": "e75b9f30",
   "metadata": {},
   "outputs": [],
   "source": [
    "# CPU or GPU usage\n",
    "BigClass.assign_solver(solver)"
   ]
  },
  {
   "cell_type": "code",
   "execution_count": 7,
   "id": "3c599ea9",
   "metadata": {},
   "outputs": [
    {
     "name": "stderr",
     "output_type": "stream",
     "text": [
      "<cell>4: \u001b[1m\u001b[91merror:\u001b[0m Name \u001b[0m\u001b[1m\"State\"\u001b[0m is not defined  \u001b[0m\u001b[93m[name-defined]\u001b[0m\n",
      "<cell>5: \u001b[1m\u001b[91merror:\u001b[0m \u001b[0m\u001b[1m\"User_Variables\"\u001b[0m not callable  \u001b[0m\u001b[93m[operator]\u001b[0m\n",
      "<cell>5: \u001b[1m\u001b[91merror:\u001b[0m Name \u001b[0m\u001b[1m\"alpha\"\u001b[0m is not defined  \u001b[0m\u001b[93m[name-defined]\u001b[0m\n",
      "<cell>8: \u001b[1m\u001b[91merror:\u001b[0m Name \u001b[0m\u001b[1m\"State\"\u001b[0m is not defined  \u001b[0m\u001b[93m[name-defined]\u001b[0m\n",
      "<cell>8: \u001b[1m\u001b[91merror:\u001b[0m Name \u001b[0m\u001b[1m\"Strctr\"\u001b[0m is not defined  \u001b[0m\u001b[93m[name-defined]\u001b[0m\n",
      "<cell>12: \u001b[1m\u001b[91merror:\u001b[0m Name \u001b[0m\u001b[1m\"alpha\"\u001b[0m is not defined  \u001b[0m\u001b[93m[name-defined]\u001b[0m\n",
      "<cell>13: \u001b[1m\u001b[91merror:\u001b[0m Name \u001b[0m\u001b[1m\"alpha\"\u001b[0m is not defined  \u001b[0m\u001b[93m[name-defined]\u001b[0m\n",
      "<cell>14: \u001b[1m\u001b[91merror:\u001b[0m Name \u001b[0m\u001b[1m\"syms\"\u001b[0m is not defined  \u001b[0m\u001b[93m[name-defined]\u001b[0m\n",
      "<cell>15: \u001b[1m\u001b[91merror:\u001b[0m Name \u001b[0m\u001b[1m\"desired\"\u001b[0m is not defined  \u001b[0m\u001b[93m[name-defined]\u001b[0m\n",
      "<cell>17: \u001b[1m\u001b[91merror:\u001b[0m Name \u001b[0m\u001b[1m\"desired\"\u001b[0m is not defined  \u001b[0m\u001b[93m[name-defined]\u001b[0m\n",
      "<cell>21: \u001b[1m\u001b[91merror:\u001b[0m Name \u001b[0m\u001b[1m\"M\"\u001b[0m is not defined  \u001b[0m\u001b[93m[name-defined]\u001b[0m\n",
      "<cell>28: \u001b[1m\u001b[91merror:\u001b[0m Name \u001b[0m\u001b[1m\"syms\"\u001b[0m is not defined  \u001b[0m\u001b[93m[name-defined]\u001b[0m\n",
      "<cell>39: \u001b[1m\u001b[91merror:\u001b[0m Name \u001b[0m\u001b[1m\"A\"\u001b[0m is not defined  \u001b[0m\u001b[93m[name-defined]\u001b[0m\n",
      "<cell>39: \u001b[1m\u001b[91merror:\u001b[0m Name \u001b[0m\u001b[1m\"B\"\u001b[0m is not defined  \u001b[0m\u001b[93m[name-defined]\u001b[0m\n"
     ]
    }
   ],
   "source": [
    "## functions\n",
    "\n",
    "def run_model_changing_alpha(alpha_vec, task_type, training, supress, bc_noise=0, use_p_tag=True, \\\n",
    "                             R_update: str ='propto') -> Tuple[\"State\", \"User_Variables\", np.ndarray]:\n",
    "    variabs = Variabs(task_type, alpha, gamma, use_p_tag=use_p_tag, R_update=R_update)\n",
    "\n",
    "    ## network state\n",
    "    state = State(Variabs, supress_prints, bc_noise, Strctr, Nin, Nout)\n",
    "        \n",
    "    for i in range(training):\n",
    "        if task_type=='Allostery':\n",
    "            if np.size(alpha)>2:  # if alpha is annealed, change. In allostery alpha is 2D anyway\n",
    "                state.update_alpha(alpha[i])\n",
    "            state.calc_output(syms)\n",
    "            state.calc_loss(desired)\n",
    "            state.update_pressure()\n",
    "            state.update_BCs(desired)\n",
    "            state.update_Rs()\n",
    "        else:\n",
    "            state.draw_p()\n",
    "            desired = np.matmul(M, state.p_drawn)\n",
    "            state.desired_in_t.append(desired)\n",
    "            if supress:\n",
    "                pass\n",
    "            else:\n",
    "                print('p_drawn', state.p_drawn)\n",
    "                print('desired', desired)\n",
    "            state.calc_output(syms)\n",
    "            if not i % 2:  # even iterations\n",
    "                pass\n",
    "            else:\n",
    "                if use_p_tag:\n",
    "                    state.calc_loss(desired, state.out_in_t[-2], state.desired_in_t[-2])\n",
    "                else:\n",
    "                    state.calc_loss(desired)\n",
    "                state.update_pressure()\n",
    "                state.update_BCs(desired)\n",
    "                state.update_Rs()\n",
    "        plot_functions.plot_importants(state, variabs, desired, A, B)\n",
    "    return state, variabs, desired"
   ]
  },
  {
   "cell_type": "code",
   "execution_count": 8,
   "id": "5abbf6e8",
   "metadata": {},
   "outputs": [
    {
     "name": "stderr",
     "output_type": "stream",
     "text": [
      "<cell>2: \u001b[1m\u001b[91merror:\u001b[0m Name \u001b[0m\u001b[1m\"Big_Class\"\u001b[0m is not defined  \u001b[0m\u001b[93m[name-defined]\u001b[0m\n",
      "<cell>5: \u001b[1m\u001b[91merror:\u001b[0m Name \u001b[0m\u001b[1m\"solver\"\u001b[0m is not defined  \u001b[0m\u001b[93m[name-defined]\u001b[0m\n",
      "<cell>9: \u001b[1m\u001b[91merror:\u001b[0m Name \u001b[0m\u001b[1m\"Classes\"\u001b[0m is not defined  \u001b[0m\u001b[93m[name-defined]\u001b[0m\n",
      "<cell>11: \u001b[1m\u001b[91merror:\u001b[0m \u001b[0m\u001b[1m\"User_Variables\"\u001b[0m has no attribute \u001b[0m\u001b[1m\"task_type\"\u001b[0m  \u001b[0m\u001b[93m[attr-defined]\u001b[0m\n",
      "<cell>12: \u001b[1m\u001b[91merror:\u001b[0m \u001b[0m\u001b[1m\"User_Variables\"\u001b[0m has no attribute \u001b[0m\u001b[1m\"update_u_thresh\"\u001b[0m  \u001b[0m\u001b[93m[attr-defined]\u001b[0m\n"
     ]
    },
    {
     "ename": "NameError",
     "evalue": "name 'Big_Class' is not defined",
     "output_type": "error",
     "traceback": [
      "\u001b[1;31m---------------------------------------------------------------------------\u001b[0m",
      "\u001b[1;31mNameError\u001b[0m                                 Traceback (most recent call last)",
      "Cell \u001b[1;32mIn[8], line 2\u001b[0m\n\u001b[0;32m      1\u001b[0m \u001b[38;5;66;03m## Big Class containing all classes in Network Simulation\u001b[39;00m\n\u001b[1;32m----> 2\u001b[0m BigClass \u001b[38;5;241m=\u001b[39m \u001b[43mBig_Class\u001b[49m\u001b[38;5;241m.\u001b[39mBig_Class(Variabs)\n\u001b[0;32m      4\u001b[0m \u001b[38;5;66;03m# CPU or GPU usage\u001b[39;00m\n\u001b[0;32m      5\u001b[0m BigClass\u001b[38;5;241m.\u001b[39massign_solver(solver)\n",
      "\u001b[1;31mNameError\u001b[0m: name 'Big_Class' is not defined"
     ]
    }
   ],
   "source": [
    "## Big Class containing all classes in Network Simulation\n",
    "BigClass = Big_Class.Big_Class(Variabs)\n",
    "\n",
    "# CPU or GPU usage\n",
    "BigClass.assign_solver(solver)\n",
    "\n",
    "## Structure class - build incidence matrices and 1d arrays of edges\n",
    "\n",
    "Strctr = Classes.Net_structure()\n",
    "Strctr.build_incidence(Variabs)\n",
    "if Variabs.task_type == 'Memristor' or Variabs.task_type == 'Allostery_contrastive' or Variabs.task_type == 'Regression_contrastive':\n",
    "    Variabs.update_u_thresh(Strctr)\n",
    "BigClass.add_Strctr(Strctr)  # add to big class\n",
    "# Identify edges at connections of cells and at boundaries for ease of use\n",
    "Strctr.Boundaries_and_connections(BigClass)"
   ]
  }
 ],
 "metadata": {
  "kernelspec": {
   "display_name": "Python 3 (ipykernel)",
   "language": "python",
   "name": "python3"
  },
  "language_info": {
   "codemirror_mode": {
    "name": "ipython",
    "version": 3
   },
   "file_extension": ".py",
   "mimetype": "text/x-python",
   "name": "python",
   "nbconvert_exporter": "python",
   "pygments_lexer": "ipython3",
   "version": "3.8.18"
  }
 },
 "nbformat": 4,
 "nbformat_minor": 5
}
