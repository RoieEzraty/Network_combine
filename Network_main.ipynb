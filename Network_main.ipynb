{
 "cells": [
  {
   "cell_type": "code",
   "execution_count": null,
   "id": "096421ca",
   "metadata": {},
   "outputs": [],
   "source": [
    "%load_ext nb_mypy\n",
    "%nb_mypy Off"
   ]
  },
  {
   "cell_type": "code",
   "execution_count": null,
   "id": "6b12612a",
   "metadata": {},
   "outputs": [],
   "source": [
    "from __future__ import annotations\n",
    "import numpy as np\n",
    "import random\n",
    "import copy\n",
    "\n",
    "from typing import Tuple, List\n",
    "from numpy import array, zeros\n",
    "\n",
    "# from Big_Class import Big_Class  # already imported one NETfuncs is imported\n",
    "from User_Variables import User_Variables  # already imported one NETfuncs is imported\n",
    "from Network_Structure import Network_Structure  # already imported one NETfuncs is imported\n",
    "from Big_Class import Big_Class\n",
    "from Network_State import Network_State\n",
    "from Networkx_Net import Networkx_Net\n",
    "import NETfuncs, matrix_functions, functions, statistics, plot_functions, solve"
   ]
  },
  {
   "cell_type": "code",
   "execution_count": null,
   "id": "c542e319",
   "metadata": {},
   "outputs": [],
   "source": [
    "## Parameters\n",
    "\n",
    "Nin: int = 2\n",
    "Nout: int = 3\n",
    "\n",
    "# learning rate\n",
    "# alpha_vec = np.array([0.2, 0.5, 1.0, 2.0, 2.5, 2.7, 3.5, 4.0, 8.0])  # 1D array = const alpha, array of arrays = annealed\n",
    "# alpha_vec = np.array([np.append(np.linspace(4.1,4.8,200), np.linspace(4.8,4.1,200))])  # 1D array for constant alpha, array of arrays for annealed alpha\n",
    "# alpha_vec: np.ndarray = np.array([0.2])  # for allostery, regression and general_reg\n",
    "# alpha_vec = np.array([0.1])  # for general_reg_allRsChange\n",
    "# alpha_vec = np.array([np.linspace(5,3.85,40)])  # 1D array for constant alpha, array of arrays for annealed alpha\n",
    "# alpha_vec = np.array([4.8])\n",
    "alpha: float = 1.0  # for network combine attempt\n",
    "\n",
    "# resistance-pressure proportionality factor\n",
    "gamma: np.ndarray = np.array([1.0])\n",
    "\n",
    "# R_update: str = 'propto'\n",
    "R_update = 'deltaR'\n",
    "\n",
    "# training length\n",
    "iterations = 180\n",
    "    \n",
    "supress_prints: bool = False\n",
    "bc_noise: float = 0.0\n",
    "use_p_tag: bool = True\n",
    "    \n",
    "M_values: np.ndarray = array([0.4, 0.25, 0.1, 0.15, 0.02, 0.3, 0.35, 0.15])\n",
    "    \n",
    "## Networkx sizes\n",
    "scale: float = 5.0\n",
    "squish: float = 0.01"
   ]
  },
  {
   "cell_type": "code",
   "execution_count": null,
   "id": "8b852908",
   "metadata": {},
   "outputs": [],
   "source": [
    "## Assign input and output nodes a.f.o lattice size and row choice\n",
    "input_nodes_arr, ground_nodes_arr, output_nodes_arr = matrix_functions.build_input_output_and_ground(Nin, Nout)"
   ]
  },
  {
   "cell_type": "code",
   "execution_count": null,
   "id": "181d8c02",
   "metadata": {},
   "outputs": [],
   "source": [
    "print('input_nodes_arr ', input_nodes_arr)\n",
    "print('output_nodes_arr ', output_nodes_arr)\n",
    "print('ground_nodes_arr ', ground_nodes_arr)"
   ]
  },
  {
   "cell_type": "code",
   "execution_count": null,
   "id": "7ee07fdf",
   "metadata": {},
   "outputs": [],
   "source": [
    "## Variables class - mostly user choices\n",
    "Variabs = User_Variables(iterations,\\\n",
    "                         Nin, \\\n",
    "                         Nout, \\\n",
    "                         gamma, \\\n",
    "                         R_update, \\\n",
    "                         use_p_tag, \\\n",
    "                         supress_prints, \\\n",
    "                         bc_noise)\n",
    "Variabs.assign_alpha_vec(alpha)\n",
    "print('alpha_vec', Variabs.alpha_vec)\n",
    "Variabs.create_M(M_values)"
   ]
  },
  {
   "cell_type": "code",
   "execution_count": null,
   "id": "76f6c4dd",
   "metadata": {},
   "outputs": [],
   "source": [
    "## Big Class containing all classes in Network Simulation\n",
    "BigClass = Big_Class(Variabs)"
   ]
  },
  {
   "cell_type": "code",
   "execution_count": null,
   "id": "54383771",
   "metadata": {},
   "outputs": [],
   "source": [
    "## Structure class - build incidence matrices and 1d arrays of edges\n",
    "\n",
    "Strctr = Network_Structure(input_nodes_arr, \\\n",
    "                           output_nodes_arr, \\\n",
    "                           ground_nodes_arr,)\n",
    "Strctr.build_incidence()\n",
    "Strctr.build_edges()\n",
    "BigClass.add_Strctr(Strctr)  # add to big class"
   ]
  },
  {
   "cell_type": "code",
   "execution_count": null,
   "id": "561d69a8",
   "metadata": {},
   "outputs": [],
   "source": [
    "## Initiate internal flow network state class\n",
    "\n",
    "State = Network_State(Nin, Nout)\n",
    "State.initiate_resistances(BigClass)\n",
    "BigClass.add_State(State)  # add to big class"
   ]
  },
  {
   "cell_type": "code",
   "execution_count": null,
   "id": "ce6edad0",
   "metadata": {},
   "outputs": [],
   "source": [
    "## build network graphics class and plot structure\n",
    "\n",
    "NET = Networkx_Net(scale, squish)\n",
    "NET.buildNetwork(BigClass)\n",
    "NET.build_pos_lattice(BigClass, plot=True, node_labels=True)\n",
    "BigClass.add_NET(NET)  # add to big class"
   ]
  },
  {
   "cell_type": "markdown",
   "id": "e0b3ff0c",
   "metadata": {},
   "source": [
    "## Start loop from here"
   ]
  },
  {
   "cell_type": "code",
   "execution_count": null,
   "id": "33735310",
   "metadata": {},
   "outputs": [],
   "source": [
    "for i in range(Variabs.iterations):\n",
    "    print('i', i)\n",
    "    State.draw_p_in_and_desired(Variabs)\n",
    "    print('p_drawn ', State.input_drawn)\n",
    "    print('desired output', State.desired)\n",
    "    State.solve_flow_until_conv(BigClass, \"measure\")  # measure and don't change resistances\n",
    "    print('output meausred', State.output)\n",
    "    if not i % 2:  # even iterations, take another sampled pressure and measure again\n",
    "        pass\n",
    "    else:  # odd iterations, go to dual problem and update resistances\n",
    "        State.calc_loss(BigClass)\n",
    "        State.update_pressure_dual(BigClass)\n",
    "        State.update_output_dual(BigClass)\n",
    "        State.solve_flow_until_conv(BigClass, \"dual\")  # measure and don't change resistances\n",
    "        State.update_Rs(BigClass)"
   ]
  },
  {
   "cell_type": "code",
   "execution_count": null,
   "id": "61281d6f",
   "metadata": {},
   "outputs": [],
   "source": [
    "plot_functions.plot_importants(State, Variabs, State.desired_in_t, Variabs.M)"
   ]
  }
 ],
 "metadata": {
  "kernelspec": {
   "display_name": "Python 3 (ipykernel)",
   "language": "python",
   "name": "python3"
  },
  "language_info": {
   "codemirror_mode": {
    "name": "ipython",
    "version": 3
   },
   "file_extension": ".py",
   "mimetype": "text/x-python",
   "name": "python",
   "nbconvert_exporter": "python",
   "pygments_lexer": "ipython3",
   "version": "3.8.18"
  }
 },
 "nbformat": 4,
 "nbformat_minor": 5
}
