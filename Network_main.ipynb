{
 "cells": [
  {
   "cell_type": "code",
   "execution_count": null,
   "id": "096421ca",
   "metadata": {},
   "outputs": [],
   "source": [
    "%load_ext nb_mypy\n",
    "%nb_mypy Off"
   ]
  },
  {
   "cell_type": "code",
   "execution_count": null,
   "id": "6b12612a",
   "metadata": {},
   "outputs": [],
   "source": [
    "from __future__ import annotations\n",
    "import numpy as np\n",
    "import random\n",
    "import copy\n",
    "\n",
    "from typing import Tuple, List\n",
    "from numpy import array, zeros\n",
    "\n",
    "# from Big_Class import Big_Class  # already imported one NETfuncs is imported\n",
    "from User_Variables import User_Variables  # already imported one NETfuncs is imported\n",
    "from Network_Structure import Network_Structure  # already imported one NETfuncs is imported\n",
    "from Big_Class import Big_Class\n",
    "from Network_State import Network_State\n",
    "from Networkx_Net import Networkx_Net\n",
    "import NETfuncs, matrix_functions, functions, statistics, plot_functions, solve"
   ]
  },
  {
   "cell_type": "code",
   "execution_count": null,
   "id": "c542e319",
   "metadata": {},
   "outputs": [],
   "source": [
    "## Parameters\n",
    "\n",
    "Nin: int = 2\n",
    "Nout: int = 2\n",
    "\n",
    "# learning rate\n",
    "# alpha_vec = np.array([0.2, 0.5, 1.0, 2.0, 2.5, 2.7, 3.5, 4.0, 8.0])  # 1D array = const alpha, array of arrays = annealed\n",
    "# alpha_vec = np.array([np.append(np.linspace(4.1,4.8,200), np.linspace(4.8,4.1,200))])  # 1D array for constant alpha, array of arrays for annealed alpha\n",
    "alpha_vec: np.ndarray = np.array([0.2])  # for allostery, regression and general_reg\n",
    "# alpha_vec = np.array([0.1])  # for general_reg_allRsChange\n",
    "# alpha_vec = np.array([np.linspace(5,3.85,40)])  # 1D array for constant alpha, array of arrays for annealed alpha\n",
    "# alpha_vec = np.array([4.8])\n",
    "\n",
    "# resistance-pressure proportionality factor\n",
    "gamma: np.ndarray = np.array([1.0])\n",
    "\n",
    "R_update: str = 'propto'\n",
    "# R_update = 'deltaR'\n",
    "\n",
    "# training length\n",
    "if np.size(alpha_vec[0])>1:  # if alpha is annealed\n",
    "    iterations: int = len(alpha_vec[0])\n",
    "else:\n",
    "    iterations = 320\n",
    "    \n",
    "supress_prints: bool = False\n",
    "bc_noise: float = 0.0\n",
    "use_p_tag: bool = True\n",
    "    \n",
    "M_values: np.ndarray = array([0.05, 0.25, 0.1, 0.15, 0.02, 0.3, 0.35, 0.15])\n",
    "    \n",
    "## Networkx sizes\n",
    "scale: float = 5.0\n",
    "squish: float = 0.01"
   ]
  },
  {
   "cell_type": "code",
   "execution_count": null,
   "id": "8b852908",
   "metadata": {},
   "outputs": [],
   "source": [
    "## Assign input and output nodes a.f.o lattice size and row choice\n",
    "input_nodes_arr, ground_nodes_arr, output_nodes_arr = matrix_functions.build_input_output_and_ground(Nin, Nout)"
   ]
  },
  {
   "cell_type": "code",
   "execution_count": null,
   "id": "181d8c02",
   "metadata": {},
   "outputs": [],
   "source": [
    "print('input_nodes_arr ', input_nodes_arr)\n",
    "print('output_nodes_arr ', output_nodes_arr)\n",
    "print('ground_nodes_arr ', ground_nodes_arr)"
   ]
  },
  {
   "cell_type": "code",
   "execution_count": null,
   "id": "7ee07fdf",
   "metadata": {},
   "outputs": [],
   "source": [
    "## Variables class - mostly user choices\n",
    "Variabs = User_Variables(iterations,\\\n",
    "                         Nin, \\\n",
    "                         Nout, \\\n",
    "                         alpha_vec, \\\n",
    "                         gamma, \\\n",
    "                         R_update, \\\n",
    "                         use_p_tag, \\\n",
    "                         supress_prints, \\\n",
    "                         bc_noise)\n",
    "\n",
    "Variabs.create_M(M_values)"
   ]
  },
  {
   "cell_type": "code",
   "execution_count": null,
   "id": "f43789f9",
   "metadata": {},
   "outputs": [],
   "source": [
    "Variabs.M"
   ]
  },
  {
   "cell_type": "code",
   "execution_count": null,
   "id": "76f6c4dd",
   "metadata": {},
   "outputs": [],
   "source": [
    "## Big Class containing all classes in Network Simulation\n",
    "BigClass = Big_Class(Variabs)"
   ]
  },
  {
   "cell_type": "code",
   "execution_count": null,
   "id": "9170cfff",
   "metadata": {},
   "outputs": [],
   "source": [
    "## Structure class - build incidence matrices and 1d arrays of edges\n",
    "\n",
    "Strctr = Network_Structure(input_nodes_arr, \\\n",
    "                           output_nodes_arr, \\\n",
    "                           ground_nodes_arr,)\n",
    "Strctr.build_incidence()\n",
    "Strctr.build_edges()\n",
    "BigClass.add_Strctr(Strctr)  # add to big class\n",
    "# # Identify edges at connections of cells and at boundaries for ease of use\n",
    "# Strctr.Boundaries_and_connections(BigClass)"
   ]
  },
  {
   "cell_type": "code",
   "execution_count": null,
   "id": "7fd6b48f",
   "metadata": {},
   "outputs": [],
   "source": [
    "## Initiate internal flow network state class\n",
    "\n",
    "State = Network_State(Nin, Nout)\n",
    "BigClass.add_State(State)  # add to big class"
   ]
  },
  {
   "cell_type": "code",
   "execution_count": null,
   "id": "f2ed2a50",
   "metadata": {},
   "outputs": [],
   "source": [
    "## build network graphics class and plot structure\n",
    "\n",
    "NET = Networkx_Net(scale, squish)\n",
    "NET.buildNetwork(BigClass)\n",
    "NET.build_pos_lattice(BigClass, plot=True, node_labels=True)\n",
    "# pos_lattice = NETfuncs.plotNetStructure(NET.NET, plot='yes', node_labels=False)  # position lattice, datatype of networkx\n",
    "# position lat. dtype=networkx\n",
    "# pos_lattice = NETfuncs.plotNetStructure(NET.NET, layout='oneCol', plot='no', node_labels=True)\n",
    "# print(NET.pos_lattice)\n",
    "BigClass.add_NET(NET)  # add to big class"
   ]
  },
  {
   "cell_type": "markdown",
   "id": "6b2588b9",
   "metadata": {},
   "source": [
    "## Start loop from here"
   ]
  },
  {
   "cell_type": "code",
   "execution_count": null,
   "id": "566b6d1c",
   "metadata": {},
   "outputs": [],
   "source": [
    "%nb_mypy On"
   ]
  },
  {
   "cell_type": "code",
   "execution_count": null,
   "id": "5016ef37",
   "metadata": {},
   "outputs": [],
   "source": [
    "State.draw_p_in_and_desired(Variabs)"
   ]
  },
  {
   "cell_type": "code",
   "execution_count": null,
   "id": "87a4a9bf",
   "metadata": {},
   "outputs": [],
   "source": [
    "print('p_drawn ', State.p_drawn)\n",
    "print('p_drawn_in_t ', State.p_drawn_in_t)\n",
    "print('desired output', State.desired)\n",
    "print('desired output in time', State.desired_in_t)"
   ]
  },
  {
   "cell_type": "code",
   "execution_count": null,
   "id": "d61b7784",
   "metadata": {},
   "outputs": [],
   "source": [
    "Cstr_full, Cstr, f = State.setup_constraints_given_pin(BigClass, \"measure\")"
   ]
  },
  {
   "cell_type": "code",
   "execution_count": null,
   "id": "390f0043",
   "metadata": {},
   "outputs": [],
   "source": [
    "State.p, State.u = State.solve_flow_until_conv(BigClass, u, State.setup_constraints_given_pin(BigClass, \"measure\"))"
   ]
  },
  {
   "cell_type": "code",
   "execution_count": null,
   "id": "42ee6b97",
   "metadata": {},
   "outputs": [],
   "source": [
    "for i in range(Variabs.iterations):\n",
    "    State.draw_p_in_and_desired()\n",
    "    desired = np.matmul(M, state.p_drawn)\n",
    "    state.desired_in_t.append(desired)\n",
    "    if supress:\n",
    "        pass\n",
    "    else:\n",
    "        print('p_drawn', state.p_drawn)\n",
    "        print('desired', desired)\n",
    "    state.calc_output(syms)\n",
    "    if not i % 2:  # even iterations\n",
    "        pass\n",
    "    else:\n",
    "        if use_p_tag:\n",
    "            state.calc_loss(desired, state.out_in_t[-2], state.desired_in_t[-2])\n",
    "        else:\n",
    "            state.calc_loss(desired)\n",
    "        state.update_pressure()\n",
    "        state.update_BCs(desired)\n",
    "        state.update_Rs()\n",
    "    plot_functions.plot_importants(state, variabs, desired, A, B)"
   ]
  },
  {
   "cell_type": "code",
   "execution_count": null,
   "id": "3c599ea9",
   "metadata": {},
   "outputs": [],
   "source": [
    "## functions\n",
    "\n",
    "def run_model_changing_alpha(alpha_vec, task_type, training, supress, bc_noise=0, use_p_tag=True, \\\n",
    "                             R_update: str ='propto') -> Tuple[\"State\", \"User_Variables\", np.ndarray]:\n",
    "    variabs = Variabs(task_type, alpha, gamma, use_p_tag=use_p_tag, R_update=R_update)\n",
    "\n",
    "    ## network state\n",
    "    state = State(Variabs, supress_prints, bc_noise, Strctr, Nin, Nout)\n",
    "        \n",
    "    for i in range(training):\n",
    "        if task_type=='Allostery':\n",
    "            if np.size(alpha)>2:  # if alpha is annealed, change. In allostery alpha is 2D anyway\n",
    "                state.update_alpha(alpha[i])\n",
    "            state.calc_output(syms)\n",
    "            state.calc_loss(desired)\n",
    "            state.update_pressure()\n",
    "            state.update_BCs(desired)\n",
    "            state.update_Rs()\n",
    "        else:\n",
    "            state.draw_p()\n",
    "            desired = np.matmul(M, state.p_drawn)\n",
    "            state.desired_in_t.append(desired)\n",
    "            if supress:\n",
    "                pass\n",
    "            else:\n",
    "                print('p_drawn', state.p_drawn)\n",
    "                print('desired', desired)\n",
    "            state.calc_output(syms)\n",
    "            if not i % 2:  # even iterations\n",
    "                pass\n",
    "            else:\n",
    "                if use_p_tag:\n",
    "                    state.calc_loss(desired, state.out_in_t[-2], state.desired_in_t[-2])\n",
    "                else:\n",
    "                    state.calc_loss(desired)\n",
    "                state.update_pressure()\n",
    "                state.update_BCs(desired)\n",
    "                state.update_Rs()\n",
    "        plot_functions.plot_importants(state, variabs, desired, A, B)\n",
    "    return state, variabs, desired"
   ]
  },
  {
   "cell_type": "code",
   "execution_count": null,
   "id": "5abbf6e8",
   "metadata": {},
   "outputs": [],
   "source": [
    "## Big Class containing all classes in Network Simulation\n",
    "BigClass = Big_Class.Big_Class(Variabs)\n",
    "\n",
    "# CPU or GPU usage\n",
    "BigClass.assign_solver(solver)\n",
    "\n",
    "## Structure class - build incidence matrices and 1d arrays of edges\n",
    "\n",
    "Strctr = Classes.Net_structure()\n",
    "Strctr.build_incidence(Variabs)\n",
    "if Variabs.task_type == 'Memristor' or Variabs.task_type == 'Allostery_contrastive' or Variabs.task_type == 'Regression_contrastive':\n",
    "    Variabs.update_u_thresh(Strctr)\n",
    "BigClass.add_Strctr(Strctr)  # add to big class\n",
    "# Identify edges at connections of cells and at boundaries for ease of use\n",
    "Strctr.Boundaries_and_connections(BigClass)"
   ]
  }
 ],
 "metadata": {
  "kernelspec": {
   "display_name": "Python 3 (ipykernel)",
   "language": "python",
   "name": "python3"
  },
  "language_info": {
   "codemirror_mode": {
    "name": "ipython",
    "version": 3
   },
   "file_extension": ".py",
   "mimetype": "text/x-python",
   "name": "python",
   "nbconvert_exporter": "python",
   "pygments_lexer": "ipython3",
   "version": "3.8.18"
  }
 },
 "nbformat": 4,
 "nbformat_minor": 5
}
