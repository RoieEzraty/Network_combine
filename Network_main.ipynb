{
 "cells": [
  {
   "cell_type": "code",
   "execution_count": 1,
   "id": "096421ca",
   "metadata": {},
   "outputs": [
    {
     "name": "stderr",
     "output_type": "stream",
     "text": [
      "Version 1.0.5\n"
     ]
    }
   ],
   "source": [
    "%load_ext nb_mypy\n",
    "%nb_mypy Off"
   ]
  },
  {
   "cell_type": "code",
   "execution_count": 2,
   "id": "6b12612a",
   "metadata": {},
   "outputs": [],
   "source": [
    "from __future__ import annotations\n",
    "import numpy as np\n",
    "import random\n",
    "import copy\n",
    "\n",
    "from typing import Tuple, List\n",
    "from numpy import array, zeros\n",
    "\n",
    "# from Big_Class import Big_Class  # already imported one NETfuncs is imported\n",
    "from User_Variables import User_Variables  # already imported one NETfuncs is imported\n",
    "from Network_Structure import Network_Structure  # already imported one NETfuncs is imported\n",
    "from Big_Class import Big_Class\n",
    "from Network_State import Network_State\n",
    "from Networkx_Net import Networkx_Net\n",
    "import NETfuncs, matrix_functions, functions, statistics, plot_functions, solve"
   ]
  },
  {
   "cell_type": "code",
   "execution_count": 3,
   "id": "c542e319",
   "metadata": {},
   "outputs": [],
   "source": [
    "## Parameters\n",
    "\n",
    "Nin: int = 2\n",
    "Nout: int = 2\n",
    "\n",
    "# learning rate\n",
    "# alpha_vec = np.array([0.2, 0.5, 1.0, 2.0, 2.5, 2.7, 3.5, 4.0, 8.0])  # 1D array = const alpha, array of arrays = annealed\n",
    "# alpha_vec = np.array([np.append(np.linspace(4.1,4.8,200), np.linspace(4.8,4.1,200))])  # 1D array for constant alpha, array of arrays for annealed alpha\n",
    "alpha_vec: np.ndarray = np.array([0.2])  # for allostery, regression and general_reg\n",
    "# alpha_vec = np.array([0.1])  # for general_reg_allRsChange\n",
    "# alpha_vec = np.array([np.linspace(5,3.85,40)])  # 1D array for constant alpha, array of arrays for annealed alpha\n",
    "# alpha_vec = np.array([4.8])\n",
    "\n",
    "# resistance-pressure proportionality factor\n",
    "gamma: np.ndarray = np.array([1.0])\n",
    "\n",
    "R_update: str = 'propto'\n",
    "# R_update = 'deltaR'\n",
    "\n",
    "# training length\n",
    "if np.size(alpha_vec[0])>1:  # if alpha is annealed\n",
    "    iterations: int = len(alpha_vec[0])\n",
    "else:\n",
    "    iterations = 320\n",
    "    \n",
    "supress_prints: bool = False\n",
    "bc_noise: float = 0.0\n",
    "use_p_tag: bool = True\n",
    "    \n",
    "M_values: np.ndarray = array([0.05, 0.25, 0.1, 0.15, 0.02, 0.3, 0.35, 0.15])\n",
    "    \n",
    "## Networkx sizes\n",
    "scale: float = 5.0\n",
    "squish: float = 0.01"
   ]
  },
  {
   "cell_type": "code",
   "execution_count": 4,
   "id": "8b852908",
   "metadata": {},
   "outputs": [],
   "source": [
    "## Assign input and output nodes a.f.o lattice size and row choice\n",
    "input_nodes_arr, ground_nodes_arr, output_nodes_arr = matrix_functions.build_input_output_and_ground(Nin, Nout)"
   ]
  },
  {
   "cell_type": "code",
   "execution_count": 5,
   "id": "181d8c02",
   "metadata": {},
   "outputs": [
    {
     "name": "stdout",
     "output_type": "stream",
     "text": [
      "input_nodes_arr  [0 1]\n",
      "output_nodes_arr  [2 3]\n",
      "ground_nodes_arr  [4]\n"
     ]
    }
   ],
   "source": [
    "print('input_nodes_arr ', input_nodes_arr)\n",
    "print('output_nodes_arr ', output_nodes_arr)\n",
    "print('ground_nodes_arr ', ground_nodes_arr)"
   ]
  },
  {
   "cell_type": "code",
   "execution_count": 6,
   "id": "7ee07fdf",
   "metadata": {},
   "outputs": [],
   "source": [
    "## Variables class - mostly user choices\n",
    "Variabs = User_Variables(iterations,\\\n",
    "                         Nin, \\\n",
    "                         Nout, \\\n",
    "                         alpha_vec, \\\n",
    "                         gamma, \\\n",
    "                         R_update, \\\n",
    "                         use_p_tag, \\\n",
    "                         supress_prints, \\\n",
    "                         bc_noise)\n",
    "\n",
    "Variabs.create_M(M_values)"
   ]
  },
  {
   "cell_type": "code",
   "execution_count": 7,
   "id": "7ad970b4",
   "metadata": {},
   "outputs": [
    {
     "data": {
      "text/plain": [
       "array([[0.05, 0.25],\n",
       "       [0.1 , 0.15]])"
      ]
     },
     "execution_count": 7,
     "metadata": {},
     "output_type": "execute_result"
    }
   ],
   "source": [
    "Variabs.M"
   ]
  },
  {
   "cell_type": "code",
   "execution_count": 8,
   "id": "76f6c4dd",
   "metadata": {},
   "outputs": [],
   "source": [
    "## Big Class containing all classes in Network Simulation\n",
    "BigClass = Big_Class(Variabs)"
   ]
  },
  {
   "cell_type": "code",
   "execution_count": 9,
   "id": "e9c26487",
   "metadata": {},
   "outputs": [
    {
     "name": "stdout",
     "output_type": "stream",
     "text": [
      "EI [0 0 1 1 0 1 2 3]\n",
      "EJ [2 3 2 3 4 4 4 4]\n",
      "NE 8\n"
     ]
    }
   ],
   "source": [
    "## Structure class - build incidence matrices and 1d arrays of edges\n",
    "\n",
    "Strctr = Network_Structure(input_nodes_arr, \\\n",
    "                           output_nodes_arr, \\\n",
    "                           ground_nodes_arr,)\n",
    "Strctr.build_incidence()\n",
    "Strctr.build_edges()\n",
    "BigClass.add_Strctr(Strctr)  # add to big class\n",
    "# # Identify edges at connections of cells and at boundaries for ease of use\n",
    "# Strctr.Boundaries_and_connections(BigClass)"
   ]
  },
  {
   "cell_type": "code",
   "execution_count": 10,
   "id": "7c2b78a0",
   "metadata": {},
   "outputs": [],
   "source": [
    "## Initiate internal flow network state class\n",
    "\n",
    "State = Network_State(Nin, Nout)\n",
    "BigClass.add_State(State)  # add to big class"
   ]
  },
  {
   "cell_type": "code",
   "execution_count": 11,
   "id": "b22e555c",
   "metadata": {},
   "outputs": [
    {
     "data": {
      "image/png": "[encoded data removed]",
      "text/plain": [
       "<Figure size 640x480 with 1 Axes>"
      ]
     },
     "metadata": {},
     "output_type": "display_data"
    },
    {
     "name": "stdout",
     "output_type": "stream",
     "text": [
      "NET is ready\n"
     ]
    }
   ],
   "source": [
    "## build network graphics class and plot structure\n",
    "\n",
    "NET = Networkx_Net(scale, squish)\n",
    "NET.buildNetwork(BigClass)\n",
    "NET.build_pos_lattice(BigClass, plot=True, node_labels=True)\n",
    "# pos_lattice = NETfuncs.plotNetStructure(NET.NET, plot='yes', node_labels=False)  # position lattice, datatype of networkx\n",
    "# position lat. dtype=networkx\n",
    "# pos_lattice = NETfuncs.plotNetStructure(NET.NET, layout='oneCol', plot='no', node_labels=True)\n",
    "# print(NET.pos_lattice)\n",
    "BigClass.add_NET(NET)  # add to big class"
   ]
  },
  {
   "cell_type": "markdown",
   "id": "4b4494b8",
   "metadata": {},
   "source": [
    "## Start loop from here"
   ]
  },
  {
   "cell_type": "code",
   "execution_count": 12,
   "id": "37d28042",
   "metadata": {},
   "outputs": [],
   "source": [
    "%nb_mypy On"
   ]
  },
  {
   "cell_type": "code",
   "execution_count": 13,
   "id": "ac6ba5b7",
   "metadata": {},
   "outputs": [
    {
     "name": "stderr",
     "output_type": "stream",
     "text": [
      "<cell>1: \u001b[1m\u001b[91merror:\u001b[0m Name \u001b[0m\u001b[1m\"State\"\u001b[0m is not defined  \u001b[0m\u001b[93m[name-defined]\u001b[0m\n",
      "<cell>1: \u001b[1m\u001b[91merror:\u001b[0m Name \u001b[0m\u001b[1m\"Variabs\"\u001b[0m is not defined  \u001b[0m\u001b[93m[name-defined]\u001b[0m\n"
     ]
    }
   ],
   "source": [
    "State.draw_p_in_and_desired(Variabs)"
   ]
  },
  {
   "cell_type": "code",
   "execution_count": 14,
   "id": "bf2a5edf",
   "metadata": {},
   "outputs": [
    {
     "name": "stderr",
     "output_type": "stream",
     "text": [
      "<cell>1: \u001b[1m\u001b[91merror:\u001b[0m Name \u001b[0m\u001b[1m\"State\"\u001b[0m is not defined  \u001b[0m\u001b[93m[name-defined]\u001b[0m\n",
      "<cell>2: \u001b[1m\u001b[91merror:\u001b[0m Name \u001b[0m\u001b[1m\"State\"\u001b[0m is not defined  \u001b[0m\u001b[93m[name-defined]\u001b[0m\n",
      "<cell>3: \u001b[1m\u001b[91merror:\u001b[0m Name \u001b[0m\u001b[1m\"State\"\u001b[0m is not defined  \u001b[0m\u001b[93m[name-defined]\u001b[0m\n",
      "<cell>4: \u001b[1m\u001b[91merror:\u001b[0m Name \u001b[0m\u001b[1m\"State\"\u001b[0m is not defined  \u001b[0m\u001b[93m[name-defined]\u001b[0m\n"
     ]
    },
    {
     "name": "stdout",
     "output_type": "stream",
     "text": [
      "p_drawn  [0.06454994 1.8294558 ]\n",
      "p_drawn_in_t  [array([0.06454994, 1.8294558 ])]\n",
      "desired output [0.46059145 0.28087336]\n",
      "desired output in time [array([0.46059145, 0.28087336])]\n"
     ]
    }
   ],
   "source": [
    "print('p_drawn ', State.p_drawn)\n",
    "print('p_drawn_in_t ', State.p_drawn_in_t)\n",
    "print('desired output', State.desired)\n",
    "print('desired output in time', State.desired_in_t)"
   ]
  },
  {
   "cell_type": "code",
   "execution_count": 15,
   "id": "34f5ed70",
   "metadata": {},
   "outputs": [
    {
     "name": "stderr",
     "output_type": "stream",
     "text": [
      "<cell>1: \u001b[1m\u001b[91merror:\u001b[0m Name \u001b[0m\u001b[1m\"State\"\u001b[0m is not defined  \u001b[0m\u001b[93m[name-defined]\u001b[0m\n",
      "<cell>1: \u001b[1m\u001b[91merror:\u001b[0m Name \u001b[0m\u001b[1m\"BigClass\"\u001b[0m is not defined  \u001b[0m\u001b[93m[name-defined]\u001b[0m\n"
     ]
    },
    {
     "name": "stdout",
     "output_type": "stream",
     "text": [
      "BigClass input nodes [0 1]\n",
      "InNodes [0 1]\n",
      "Nodes inside func [0 1]\n",
      "NodeData [0.06454994 1.8294558 ]\n",
      "Nodes [0 1]\n",
      "GroundNodes [4]\n"
     ]
    },
    {
     "data": {
      "text/plain": [
       "(array([[0.        , 0.        , 0.        , 0.        , 1.        ,\n",
       "         0.        ],\n",
       "        [1.        , 0.        , 0.        , 0.        , 0.        ,\n",
       "         0.06454994],\n",
       "        [0.        , 1.        , 0.        , 0.        , 0.        ,\n",
       "         1.8294558 ]]),\n",
       " array([[0., 0., 0., 0., 1.],\n",
       "        [1., 0., 0., 0., 0.],\n",
       "        [0., 1., 0., 0., 0.]]),\n",
       " array([[0.        ],\n",
       "        [0.        ],\n",
       "        [0.        ],\n",
       "        [0.        ],\n",
       "        [0.        ],\n",
       "        [0.        ],\n",
       "        [0.06454994],\n",
       "        [1.8294558 ]]))"
      ]
     },
     "execution_count": 15,
     "metadata": {},
     "output_type": "execute_result"
    }
   ],
   "source": [
    "Cstr_full, Cstr, f = State.setup_constraints_given_pin(BigClass, \"measure\")"
   ]
  },
  {
   "cell_type": "code",
   "execution_count": null,
   "id": "7d511335",
   "metadata": {},
   "outputs": [],
   "source": [
    "State.p, State.u = State.solve_flow_until_conv(BigClass, u, State.setup_constraints_given_pin(BigClass, \"measure\"))"
   ]
  },
  {
   "cell_type": "code",
   "execution_count": 16,
   "id": "34c8ca2d",
   "metadata": {},
   "outputs": [
    {
     "name": "stderr",
     "output_type": "stream",
     "text": [
      "<cell>1: \u001b[1m\u001b[91merror:\u001b[0m Name \u001b[0m\u001b[1m\"Variabs\"\u001b[0m is not defined  \u001b[0m\u001b[93m[name-defined]\u001b[0m\n",
      "<cell>2: \u001b[1m\u001b[91merror:\u001b[0m Name \u001b[0m\u001b[1m\"State\"\u001b[0m is not defined  \u001b[0m\u001b[93m[name-defined]\u001b[0m\n",
      "<cell>3: \u001b[1m\u001b[91merror:\u001b[0m Name \u001b[0m\u001b[1m\"np\"\u001b[0m is not defined  \u001b[0m\u001b[93m[name-defined]\u001b[0m\n",
      "<cell>3: \u001b[1m\u001b[91merror:\u001b[0m Name \u001b[0m\u001b[1m\"M\"\u001b[0m is not defined  \u001b[0m\u001b[93m[name-defined]\u001b[0m\n",
      "<cell>3: \u001b[1m\u001b[91merror:\u001b[0m Name \u001b[0m\u001b[1m\"state\"\u001b[0m is not defined  \u001b[0m\u001b[93m[name-defined]\u001b[0m\n",
      "<cell>4: \u001b[1m\u001b[91merror:\u001b[0m Name \u001b[0m\u001b[1m\"state\"\u001b[0m is not defined  \u001b[0m\u001b[93m[name-defined]\u001b[0m\n",
      "<cell>5: \u001b[1m\u001b[91merror:\u001b[0m Name \u001b[0m\u001b[1m\"supress\"\u001b[0m is not defined  \u001b[0m\u001b[93m[name-defined]\u001b[0m\n",
      "<cell>8: \u001b[1m\u001b[91merror:\u001b[0m Name \u001b[0m\u001b[1m\"state\"\u001b[0m is not defined  \u001b[0m\u001b[93m[name-defined]\u001b[0m\n",
      "<cell>10: \u001b[1m\u001b[91merror:\u001b[0m Name \u001b[0m\u001b[1m\"state\"\u001b[0m is not defined  \u001b[0m\u001b[93m[name-defined]\u001b[0m\n",
      "<cell>10: \u001b[1m\u001b[91merror:\u001b[0m Name \u001b[0m\u001b[1m\"syms\"\u001b[0m is not defined  \u001b[0m\u001b[93m[name-defined]\u001b[0m\n",
      "<cell>14: \u001b[1m\u001b[91merror:\u001b[0m Name \u001b[0m\u001b[1m\"use_p_tag\"\u001b[0m is not defined  \u001b[0m\u001b[93m[name-defined]\u001b[0m\n",
      "<cell>15: \u001b[1m\u001b[91merror:\u001b[0m Name \u001b[0m\u001b[1m\"state\"\u001b[0m is not defined  \u001b[0m\u001b[93m[name-defined]\u001b[0m\n",
      "<cell>17: \u001b[1m\u001b[91merror:\u001b[0m Name \u001b[0m\u001b[1m\"state\"\u001b[0m is not defined  \u001b[0m\u001b[93m[name-defined]\u001b[0m\n",
      "<cell>18: \u001b[1m\u001b[91merror:\u001b[0m Name \u001b[0m\u001b[1m\"state\"\u001b[0m is not defined  \u001b[0m\u001b[93m[name-defined]\u001b[0m\n",
      "<cell>19: \u001b[1m\u001b[91merror:\u001b[0m Name \u001b[0m\u001b[1m\"state\"\u001b[0m is not defined  \u001b[0m\u001b[93m[name-defined]\u001b[0m\n",
      "<cell>20: \u001b[1m\u001b[91merror:\u001b[0m Name \u001b[0m\u001b[1m\"state\"\u001b[0m is not defined  \u001b[0m\u001b[93m[name-defined]\u001b[0m\n",
      "<cell>21: \u001b[1m\u001b[91merror:\u001b[0m Name \u001b[0m\u001b[1m\"plot_functions\"\u001b[0m is not defined  \u001b[0m\u001b[93m[name-defined]\u001b[0m\n",
      "<cell>21: \u001b[1m\u001b[91merror:\u001b[0m Name \u001b[0m\u001b[1m\"state\"\u001b[0m is not defined  \u001b[0m\u001b[93m[name-defined]\u001b[0m\n",
      "<cell>21: \u001b[1m\u001b[91merror:\u001b[0m Name \u001b[0m\u001b[1m\"variabs\"\u001b[0m is not defined  \u001b[0m\u001b[93m[name-defined]\u001b[0m\n",
      "<cell>21: \u001b[1m\u001b[91merror:\u001b[0m Name \u001b[0m\u001b[1m\"A\"\u001b[0m is not defined  \u001b[0m\u001b[93m[name-defined]\u001b[0m\n",
      "<cell>21: \u001b[1m\u001b[91merror:\u001b[0m Name \u001b[0m\u001b[1m\"B\"\u001b[0m is not defined  \u001b[0m\u001b[93m[name-defined]\u001b[0m\n"
     ]
    },
    {
     "ename": "TypeError",
     "evalue": "draw_p_in_and_desired() missing 1 required positional argument: 'Variabs'",
     "output_type": "error",
     "traceback": [
      "\u001b[1;31m---------------------------------------------------------------------------\u001b[0m",
      "\u001b[1;31mTypeError\u001b[0m                                 Traceback (most recent call last)",
      "Cell \u001b[1;32mIn[16], line 2\u001b[0m\n\u001b[0;32m      1\u001b[0m \u001b[38;5;28;01mfor\u001b[39;00m i \u001b[38;5;129;01min\u001b[39;00m \u001b[38;5;28mrange\u001b[39m(Variabs\u001b[38;5;241m.\u001b[39miterations):\n\u001b[1;32m----> 2\u001b[0m     \u001b[43mState\u001b[49m\u001b[38;5;241;43m.\u001b[39;49m\u001b[43mdraw_p_in_and_desired\u001b[49m\u001b[43m(\u001b[49m\u001b[43m)\u001b[49m\n\u001b[0;32m      3\u001b[0m     desired \u001b[38;5;241m=\u001b[39m np\u001b[38;5;241m.\u001b[39mmatmul(M, state\u001b[38;5;241m.\u001b[39mp_drawn)\n\u001b[0;32m      4\u001b[0m     state\u001b[38;5;241m.\u001b[39mdesired_in_t\u001b[38;5;241m.\u001b[39mappend(desired)\n",
      "\u001b[1;31mTypeError\u001b[0m: draw_p_in_and_desired() missing 1 required positional argument: 'Variabs'"
     ]
    }
   ],
   "source": [
    "for i in range(Variabs.iterations):\n",
    "    State.draw_p_in_and_desired()\n",
    "    desired = np.matmul(M, state.p_drawn)\n",
    "    state.desired_in_t.append(desired)\n",
    "    if supress:\n",
    "        pass\n",
    "    else:\n",
    "        print('p_drawn', state.p_drawn)\n",
    "        print('desired', desired)\n",
    "    state.calc_output(syms)\n",
    "    if not i % 2:  # even iterations\n",
    "        pass\n",
    "    else:\n",
    "        if use_p_tag:\n",
    "            state.calc_loss(desired, state.out_in_t[-2], state.desired_in_t[-2])\n",
    "        else:\n",
    "            state.calc_loss(desired)\n",
    "        state.update_pressure()\n",
    "        state.update_BCs(desired)\n",
    "        state.update_Rs()\n",
    "    plot_functions.plot_importants(state, variabs, desired, A, B)"
   ]
  },
  {
   "cell_type": "code",
   "execution_count": null,
   "id": "3c599ea9",
   "metadata": {},
   "outputs": [],
   "source": [
    "## functions\n",
    "\n",
    "def run_model_changing_alpha(alpha_vec, task_type, training, supress, bc_noise=0, use_p_tag=True, \\\n",
    "                             R_update: str ='propto') -> Tuple[\"State\", \"User_Variables\", np.ndarray]:\n",
    "    variabs = Variabs(task_type, alpha, gamma, use_p_tag=use_p_tag, R_update=R_update)\n",
    "\n",
    "    ## network state\n",
    "    state = State(Variabs, supress_prints, bc_noise, Strctr, Nin, Nout)\n",
    "        \n",
    "    for i in range(training):\n",
    "        if task_type=='Allostery':\n",
    "            if np.size(alpha)>2:  # if alpha is annealed, change. In allostery alpha is 2D anyway\n",
    "                state.update_alpha(alpha[i])\n",
    "            state.calc_output(syms)\n",
    "            state.calc_loss(desired)\n",
    "            state.update_pressure()\n",
    "            state.update_BCs(desired)\n",
    "            state.update_Rs()\n",
    "        else:\n",
    "            state.draw_p()\n",
    "            desired = np.matmul(M, state.p_drawn)\n",
    "            state.desired_in_t.append(desired)\n",
    "            if supress:\n",
    "                pass\n",
    "            else:\n",
    "                print('p_drawn', state.p_drawn)\n",
    "                print('desired', desired)\n",
    "            state.calc_output(syms)\n",
    "            if not i % 2:  # even iterations\n",
    "                pass\n",
    "            else:\n",
    "                if use_p_tag:\n",
    "                    state.calc_loss(desired, state.out_in_t[-2], state.desired_in_t[-2])\n",
    "                else:\n",
    "                    state.calc_loss(desired)\n",
    "                state.update_pressure()\n",
    "                state.update_BCs(desired)\n",
    "                state.update_Rs()\n",
    "        plot_functions.plot_importants(state, variabs, desired, A, B)\n",
    "    return state, variabs, desired"
   ]
  },
  {
   "cell_type": "code",
   "execution_count": null,
   "id": "5abbf6e8",
   "metadata": {},
   "outputs": [],
   "source": [
    "## Big Class containing all classes in Network Simulation\n",
    "BigClass = Big_Class.Big_Class(Variabs)\n",
    "\n",
    "# CPU or GPU usage\n",
    "BigClass.assign_solver(solver)\n",
    "\n",
    "## Structure class - build incidence matrices and 1d arrays of edges\n",
    "\n",
    "Strctr = Classes.Net_structure()\n",
    "Strctr.build_incidence(Variabs)\n",
    "if Variabs.task_type == 'Memristor' or Variabs.task_type == 'Allostery_contrastive' or Variabs.task_type == 'Regression_contrastive':\n",
    "    Variabs.update_u_thresh(Strctr)\n",
    "BigClass.add_Strctr(Strctr)  # add to big class\n",
    "# Identify edges at connections of cells and at boundaries for ease of use\n",
    "Strctr.Boundaries_and_connections(BigClass)"
   ]
  }
 ],
 "metadata": {
  "kernelspec": {
   "display_name": "Python 3 (ipykernel)",
   "language": "python",
   "name": "python3"
  },
  "language_info": {
   "codemirror_mode": {
    "name": "ipython",
    "version": 3
   },
   "file_extension": ".py",
   "mimetype": "text/x-python",
   "name": "python",
   "nbconvert_exporter": "python",
   "pygments_lexer": "ipython3",
   "version": "3.8.18"
  }
 },
 "nbformat": 4,
 "nbformat_minor": 5
}
