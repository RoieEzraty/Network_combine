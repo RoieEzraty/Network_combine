{
 "cells": [
  {
   "cell_type": "code",
   "execution_count": null,
   "id": "096421ca",
   "metadata": {},
   "outputs": [],
   "source": [
    "%load_ext nb_mypy\n",
    "%nb_mypy Off"
   ]
  },
  {
   "cell_type": "code",
   "execution_count": null,
   "id": "6b12612a",
   "metadata": {},
   "outputs": [],
   "source": [
    "from __future__ import annotations\n",
    "import numpy as np\n",
    "import random\n",
    "import copy\n",
    "import importlib\n",
    "\n",
    "from typing import Tuple, List\n",
    "from numpy import array, zeros\n",
    "\n",
    "# from Big_Class import Big_Class  # already imported one NETfuncs is imported\n",
    "from User_Variables import User_Variables  # already imported one NETfuncs is imported\n",
    "from Network_Structure import Network_Structure  # already imported one NETfuncs is imported\n",
    "from Big_Class import Big_Class\n",
    "from Network_State import Network_State\n",
    "from Networkx_Net import Networkx_Net\n",
    "import matrix_functions, functions, statistics, plot_functions, solve"
   ]
  },
  {
   "cell_type": "markdown",
   "id": "ed5e4cb7",
   "metadata": {},
   "source": [
    "## Set up Network"
   ]
  },
  {
   "cell_type": "code",
   "execution_count": null,
   "id": "c542e319",
   "metadata": {},
   "outputs": [],
   "source": [
    "## Parameters\n",
    "\n",
    "## task type\n",
    "# task_type='Iris_classification'\n",
    "task_type='Regression'\n",
    "\n",
    "## task matrix X\n",
    "M_values: np.ndarray = array([0.15, 0.2, 0.25, 0.1, 0.02, 0.3, 0.35, 0.15, 0.03, 0.25, 0.1, 0.15, 0.02, 0.3, 0.35, 0.15, 0.03])\n",
    "\n",
    "## specify # of nodes\n",
    "Nin: int = 2\n",
    "extraNin: int = 0\n",
    "Ninter: int = 0\n",
    "Nout: int = 2\n",
    "extraNout: int = 0\n",
    "\n",
    "# learning rate\n",
    "# alpha_vec = np.array([0.2, 0.5, 1.0, 2.0, 2.5, 2.7, 3.5, 4.0, 8.0])  # 1D array = const alpha, array of arrays = annealed\n",
    "# alpha_vec = np.array([np.append(np.linspace(4.1,4.8,200), np.linspace(4.8,4.1,200))])  # 1D array for constant alpha, array of arrays for annealed alpha\n",
    "# alpha_vec: np.ndarray = np.array([0.2])  # for allostery, regression and general_reg\n",
    "# alpha_vec = np.array([0.1])  # for general_reg_allRsChange\n",
    "# alpha_vec = np.array([np.linspace(5,3.85,40)])  # 1D array for constant alpha, array of arrays for annealed alpha\n",
    "# alpha_vec = np.array([4.8])\n",
    "alpha: float = 0.5  # for network combine attempt\n",
    "\n",
    "# resistance-pressure proportionality factor\n",
    "gamma: np.ndarray = np.array([1.0])\n",
    "\n",
    "## method to update resistances - physical property of the system\n",
    "# R_update: str = 'R_propto_dp'\n",
    "R_update: str = 'deltaR_propto_dp'\n",
    "# R_update: str = 'R_propto_Q'\n",
    "# R_update: str = 'deltaR_propto_Q'\n",
    "# R_update: str = 'deltaR_propto_Power'\n",
    "R_vec_i = array([1.9, 1., 0.85, 1.05, 0.9, 1., 0.85, 1.05, 0.9, 1.9, 1., 1.85, 1.05, 1.9, 1., 0.85])\n",
    "# R_vec_i = array([3.74, 3.16, 1.38, -7.07, -3.01, 1.40, 1., 1., 1., 1., 1.])  # regression using 2in3out, M values [0.15, 0.2, 0.25, 0.1, 0.02, 0.3]\n",
    "\n",
    "# length of training dataset\n",
    "iterations = 2400  # number of sampled of p\n",
    "\n",
    "# measure accuracy every # steps\n",
    "measure_accuracy_every = 30\n",
    "\n",
    "# noise_to_extra: bool = True  # add noise to extra outputs \n",
    "noise_to_extra: bool = False  # add noise to extra outputs \n",
    "\n",
    "supress_prints: bool = False  # whether to print information during training or not\n",
    "bc_noise: float = 1.0  # noise to dual problem\n",
    "use_p_tag: bool = True  # use 1 or 2 sampled pressures at every time step\n",
    "# use_p_tag: bool = False\n",
    "# access_interNodes: bool = True  # access and change pressure at interNodes (nodes between input and output) or not\n",
    "access_interNodes: bool = False  # access and change pressure at interNodes (nodes between input and output) or not\n",
    "# stay_sample: int = 2  # how many loop iterations to stay under the same sampled p\n",
    "stay_sample: int = 2\n",
    "\n",
    "## Networkx sizes\n",
    "scale: float = 5.0\n",
    "squish: float = 0.01"
   ]
  },
  {
   "cell_type": "code",
   "execution_count": null,
   "id": "7ee07fdf",
   "metadata": {},
   "outputs": [],
   "source": [
    "## Variables class - mostly user choices\n",
    "Variabs = User_Variables(iterations,\\\n",
    "                         Nin, \\\n",
    "                         extraNin, \\\n",
    "                         Nout, \\\n",
    "                         extraNout, \\\n",
    "                         gamma, \\\n",
    "                         R_update, \\\n",
    "                         use_p_tag, \\\n",
    "                         supress_prints, \\\n",
    "                         bc_noise, \\\n",
    "                         access_interNodes, \\\n",
    "                         task_type, \\\n",
    "                         M_values, \\\n",
    "                         Ninter, \\\n",
    "                         measure_accuracy_every)\n",
    "Variabs.assign_alpha_vec(alpha)\n",
    "print('alpha_vec', Variabs.alpha_vec)\n",
    "Variabs.create_dataset_and_targets(M_values)\n",
    "Variabs.create_noise_for_extras()"
   ]
  },
  {
   "cell_type": "code",
   "execution_count": null,
   "id": "8b852908",
   "metadata": {},
   "outputs": [],
   "source": [
    "## Assign input and output nodes a.f.o lattice size and row choice\n",
    "inInterOutGround_tuple = matrix_functions.build_input_output_and_ground(Variabs.Nin, Variabs. extraNin, Variabs.Ninter, \n",
    "                                                                        Variabs.Nout, Variabs.extraNout)"
   ]
  },
  {
   "cell_type": "code",
   "execution_count": null,
   "id": "181d8c02",
   "metadata": {},
   "outputs": [],
   "source": [
    "print('input_nodes_arr ', inInterOutGround_tuple[0])\n",
    "print('extraInput_nodes_arr ', inInterOutGround_tuple[1])\n",
    "print('inter_nodes_arr ', inInterOutGround_tuple[2])\n",
    "print('output_nodes_arr ', inInterOutGround_tuple[3])\n",
    "print('extraOutput_nodes_arr ', inInterOutGround_tuple[4])\n",
    "print('ground_nodes_arr ', inInterOutGround_tuple[5])"
   ]
  },
  {
   "cell_type": "code",
   "execution_count": null,
   "id": "76f6c4dd",
   "metadata": {},
   "outputs": [],
   "source": [
    "## Big Class containing all classes in Network Simulation\n",
    "BigClass = Big_Class(Variabs)"
   ]
  },
  {
   "cell_type": "code",
   "execution_count": null,
   "id": "1e5b3758",
   "metadata": {},
   "outputs": [],
   "source": [
    "## Structure class - build incidence matrices and 1d arrays of edges\n",
    "\n",
    "Strctr = Network_Structure(inInterOutGround_tuple)\n",
    "Strctr.build_incidence()\n",
    "Strctr.build_edges()\n",
    "BigClass.add_Strctr(Strctr)  # add to big class"
   ]
  },
  {
   "cell_type": "code",
   "execution_count": null,
   "id": "ab70cdb7",
   "metadata": {},
   "outputs": [],
   "source": [
    "## Initiate internal flow network state class\n",
    "\n",
    "if access_interNodes:\n",
    "    State = Network_State(Variabs, Ninter)\n",
    "else:\n",
    "    State = Network_State(Variabs)\n",
    "if task_type == 'Iris_classification':\n",
    "    State.initiate_resistances(BigClass, R_vec_i)\n",
    "    State.initiate_accuracy_vec(BigClass, measure_accuracy_every)\n",
    "else:\n",
    "    State.initiate_resistances(BigClass, R_vec_i)\n",
    "BigClass.add_State(State)  # add to big class"
   ]
  },
  {
   "cell_type": "code",
   "execution_count": null,
   "id": "ce319736",
   "metadata": {},
   "outputs": [],
   "source": [
    "## build network graphics class and plot structure\n",
    "\n",
    "NET = Networkx_Net(scale, squish)\n",
    "NET.buildNetwork(BigClass)\n",
    "NET.build_pos_lattice(BigClass, plot=True, node_labels=True)\n",
    "BigClass.add_NET(NET)  # add to big class"
   ]
  },
  {
   "cell_type": "code",
   "execution_count": null,
   "id": "cabafaa6",
   "metadata": {},
   "outputs": [],
   "source": [
    "Strctr.EIEJ_plots"
   ]
  },
  {
   "cell_type": "markdown",
   "id": "bc53c168",
   "metadata": {},
   "source": [
    "## Train"
   ]
  },
  {
   "cell_type": "code",
   "execution_count": null,
   "id": "e8487cfb",
   "metadata": {
    "scrolled": true
   },
   "outputs": [],
   "source": [
    "for i in range(Variabs.iterations):\n",
    "    print('i', i)\n",
    "    \n",
    "    # if task is classification and iteration # is beginning of epoch\n",
    "    # draw output of network as output of mean of Irises\n",
    "    if i % iterations == 0 and task_type == 'Iris_classification':\n",
    "        State.assign_targets_Iris(BigClass)\n",
    "\n",
    "    # staying stay_sample iteration under same sample\n",
    "    if use_p_tag and noise_to_extra:\n",
    "        k = (i//(2*stay_sample))\n",
    "    elif use_p_tag and not(noise_to_extra):\n",
    "        k = (i//stay_sample)*2 + i%2\n",
    "    elif not(use_p_tag) and noise_to_extra:\n",
    "        k = (i//stay_sample)\n",
    "    else:\n",
    "        k = (i//stay_sample)\n",
    "    print('k', k)\n",
    "    \n",
    "    # draw input and desired outputs from dataset\n",
    "    if i % 2:\n",
    "        State.draw_p_in_and_desired(Variabs, k, noise_to_extra=noise_to_extra)  # add noise to extra nodes every 2nd iteration\n",
    "        State.solve_flow_given_problem(BigClass, \"measure\", noise_to_extra=noise_to_extra)  # measure and don't change resistances\n",
    "    else:  # dont add noise to extra nodes\n",
    "        State.draw_p_in_and_desired(Variabs, k)\n",
    "        State.solve_flow_given_problem(BigClass, \"measure\")    \n",
    "    \n",
    "    if not i % 2 and use_p_tag:  # even iterations, take another sampled pressure and measure again\n",
    "        pass\n",
    "    else:  # odd iterations, go to dual problem and update resistances\n",
    "        State.t += 1\n",
    "        print('time=', State.t)\n",
    "        State.calc_loss(BigClass)\n",
    "        State.update_input_dual(BigClass)\n",
    "        # State.update_extraInput_dual(BigClass)\n",
    "        State.update_output_dual(BigClass)\n",
    "        State.update_extraOutput_dual(BigClass)\n",
    "        if access_interNodes:\n",
    "            State.update_inter_dual(BigClass)\n",
    "        State.solve_flow_given_problem(BigClass, \"dual\")  # measure and don't change resistances\n",
    "        State.update_Rs(BigClass)\n",
    "        \n",
    "    # measure accuracy\n",
    "    if i % measure_accuracy_every == 0 and task_type == 'Iris_classification' \\\n",
    "       and i//measure_accuracy_every<len(State.accuracy_in_t):\n",
    "        State.calculate_accuracy_fullDataset(BigClass)\n",
    "        State.accuracy_in_t[i//measure_accuracy_every] = State.accuracy \n",
    "        State.t_for_accuracy[i//measure_accuracy_every] = State.t "
   ]
  },
  {
   "cell_type": "code",
   "execution_count": null,
   "id": "92005c78",
   "metadata": {},
   "outputs": [],
   "source": [
    "Strctr.EIEJ_plots"
   ]
  },
  {
   "cell_type": "code",
   "execution_count": null,
   "id": "7a55f1fc",
   "metadata": {},
   "outputs": [],
   "source": [
    "State.R_in_t[-1]"
   ]
  },
  {
   "cell_type": "markdown",
   "id": "4623c3d3",
   "metadata": {},
   "source": [
    "## Plots"
   ]
  },
  {
   "cell_type": "markdown",
   "id": "fb7f01d8",
   "metadata": {},
   "source": [
    "### importants + network"
   ]
  },
  {
   "cell_type": "code",
   "execution_count": null,
   "id": "edda6f84",
   "metadata": {},
   "outputs": [],
   "source": [
    "if hasattr(Variabs, 'M'):\n",
    "    plot_functions.plot_importants(State, Variabs, State.desired_in_t, Variabs.M, include_network=True, NET=NET)\n",
    "else:\n",
    "    plot_functions.plot_importants(State, Variabs, State.desired_in_t, include_network=True)"
   ]
  },
  {
   "cell_type": "markdown",
   "id": "84a0e3f0",
   "metadata": {},
   "source": [
    "### accuracy"
   ]
  },
  {
   "cell_type": "code",
   "execution_count": null,
   "id": "3c5b1dff",
   "metadata": {},
   "outputs": [],
   "source": [
    "if task_type == 'Iris_classification':\n",
    "    plot_functions.plot_accuracy(Variabs, State)\n",
    "else:\n",
    "    pass"
   ]
  },
  {
   "cell_type": "code",
   "execution_count": null,
   "id": "889b52f8",
   "metadata": {},
   "outputs": [],
   "source": [
    "np.mean(np.abs(State.loss_in_t[-1000:]))"
   ]
  },
  {
   "cell_type": "markdown",
   "id": "4f38cd5d",
   "metadata": {},
   "source": [
    "## Save sizes to file"
   ]
  },
  {
   "cell_type": "code",
   "execution_count": null,
   "id": "a22708fe",
   "metadata": {},
   "outputs": [],
   "source": [
    "# R_propto_deltap = State.R_in_t\n",
    "# deltaR_propto_deltap = State.R_in_t\n",
    "# deltaR_propto_Q = State.R_in_t\n",
    "# deltaR_propto_Power = State.R_in_t\n",
    "\n",
    "# loss_R_propto_deltap = State.loss_in_t\n",
    "# loss_deltaR_propto_deltap = State.loss_in_t\n",
    "# loss_propto_Q = State.loss_in_t\n",
    "# loss_propto_Power = State.loss_in_t"
   ]
  },
  {
   "cell_type": "code",
   "execution_count": null,
   "id": "70ac222a",
   "metadata": {},
   "outputs": [],
   "source": [
    "# np.save('C:/Users/SMR_Admin/OneDrive - huji.ac.il/PhD/Network Simulation repo/Network combine/Network_combine/R_propto_deltap.npy', R_propto_deltap)\n",
    "# np.save('C:/Users/SMR_Admin/OneDrive - huji.ac.il/PhD/Network Simulation repo/Network combine/Network_combine/deltaR_propto_deltap.npy', deltaR_propto_deltap)\n",
    "# np.save('C:/Users/SMR_Admin/OneDrive - huji.ac.il/PhD/Network Simulation repo/Network combine/Network_combine/deltaR_propto_Q.npy', deltaR_propto_Q)\n",
    "# np.save('C:/Users/SMR_Admin/OneDrive - huji.ac.il/PhD/Network Simulation repo/Network combine/Network_combine/deltaR_propto_Power.npy', deltaR_propto_Power)\n",
    "# np.save('C:/Users/SMR_Admin/OneDrive - huji.ac.il/PhD/Network Simulation repo/Network combine/Network_combine/loss_R_propto_deltap.npy', loss_R_propto_deltap)\n",
    "# np.save('C:/Users/SMR_Admin/OneDrive - huji.ac.il/PhD/Network Simulation repo/Network combine/Network_combine/loss_deltaR_propto_deltap.npy', loss_deltaR_propto_deltap)\n",
    "# np.save('C:/Users/SMR_Admin/OneDrive - huji.ac.il/PhD/Network Simulation repo/Network combine/Network_combine/loss_propto_Q.npy', loss_propto_Q)\n",
    "# np.save('C:/Users/SMR_Admin/OneDrive - huji.ac.il/PhD/Network Simulation repo/Network combine/Network_combine/loss_propto_Power.npy', loss_propto_Power)"
   ]
  },
  {
   "cell_type": "code",
   "execution_count": null,
   "id": "f58d5ca1",
   "metadata": {},
   "outputs": [],
   "source": [
    "# Loading the array later\n",
    "R_propto_deltap = np.load('C:/Users/SMR_Admin/OneDrive - huji.ac.il/PhD/Network Simulation repo/figs and data/2024.9/different physical dependence of resistance/R_propto_deltap.npy')\n",
    "deltaR_propto_deltap = np.load('C:/Users/SMR_Admin/OneDrive - huji.ac.il/PhD/Network Simulation repo/figs and data/2024.9/different physical dependence of resistance/deltaR_propto_deltap.npy')\n",
    "deltaR_propto_Q = np.load('C:/Users/SMR_Admin/OneDrive - huji.ac.il/PhD/Network Simulation repo/figs and data/2024.9/different physical dependence of resistance/deltaR_propto_Q.npy')\n",
    "deltaR_propto_Power = np.load('C:/Users/SMR_Admin/OneDrive - huji.ac.il/PhD/Network Simulation repo/figs and data/2024.9/different physical dependence of resistance/deltaR_propto_Power.npy')\n",
    "loss_R_propto_deltap = np.load('C:/Users/SMR_Admin/OneDrive - huji.ac.il/PhD/Network Simulation repo/figs and data/2024.9/different physical dependence of resistance/loss_R_propto_deltap.npy')\n",
    "loss_deltaR_propto_deltap = np.load('C:/Users/SMR_Admin/OneDrive - huji.ac.il/PhD/Network Simulation repo/figs and data/2024.9/different physical dependence of resistance/loss_deltaR_propto_deltap.npy')\n",
    "loss_propto_Q = np.load('C:/Users/SMR_Admin/OneDrive - huji.ac.il/PhD/Network Simulation repo/figs and data/2024.9/different physical dependence of resistance/loss_propto_Q.npy')\n",
    "loss_propto_Power = np.load('C:/Users/SMR_Admin/OneDrive - huji.ac.il/PhD/Network Simulation repo/figs and data/2024.9/different physical dependence of resistance/loss_propto_Power.npy')"
   ]
  },
  {
   "cell_type": "code",
   "execution_count": null,
   "id": "c76f6c0d",
   "metadata": {},
   "outputs": [],
   "source": [
    "# Reload the module to reflect any changes made\n",
    "importlib.reload(plot_functions)"
   ]
  },
  {
   "cell_type": "code",
   "execution_count": null,
   "id": "11bcb773",
   "metadata": {
    "scrolled": false
   },
   "outputs": [],
   "source": [
    "plot_functions.plot_comparison_R_type(R_propto_deltap, deltaR_propto_deltap, deltaR_propto_Q, deltaR_propto_Power,\n",
    "                                      loss_R_propto_deltap, loss_deltaR_propto_deltap, loss_propto_Q, loss_propto_Power)"
   ]
  },
  {
   "cell_type": "markdown",
   "id": "3ce7a96a",
   "metadata": {},
   "source": [
    "### pseudo vs. network comparison"
   ]
  },
  {
   "cell_type": "code",
   "execution_count": null,
   "id": "fd1e7794",
   "metadata": {},
   "outputs": [],
   "source": [
    "# R_in_t_network = State.R_in_t\n",
    "# R_in_t_pseudo = State.R_in_t\n",
    "# loss_network = State.loss_in_t\n",
    "# loss_pseudo = State.loss_in_t"
   ]
  },
  {
   "cell_type": "code",
   "execution_count": null,
   "id": "84ddd4bd",
   "metadata": {},
   "outputs": [],
   "source": [
    "# np.save('C:/Users/SMR_Admin/OneDrive - huji.ac.il/PhD/Network Simulation repo/Network combine/Network_combine/R_in_t_network.npy', R_in_t_network)\n",
    "# np.save('C:/Users/SMR_Admin/OneDrive - huji.ac.il/PhD/Network Simulation repo/Network combine/Network_combine/R_in_t_pseudo.npy', R_in_t_pseudo)\n",
    "# np.save('C:/Users/SMR_Admin/OneDrive - huji.ac.il/PhD/Network Simulation repo/Network combine/Network_combine/loss_in_t_network.npy', loss_network)\n",
    "# np.save('C:/Users/SMR_Admin/OneDrive - huji.ac.il/PhD/Network Simulation repo/Network combine/Network_combine/loss_in_t_pseudo.npy', loss_pseudo)"
   ]
  },
  {
   "cell_type": "code",
   "execution_count": null,
   "id": "8f4992a1",
   "metadata": {},
   "outputs": [],
   "source": [
    "# Loading the array later\n",
    "R_in_t_network = np.load('C:/Users/SMR_Admin/OneDrive - huji.ac.il/PhD/Network Simulation repo/figs and data/2024.8/30Aug_R_pseudo_vs_network/R_in_t_network.npy')\n",
    "R_in_t_pseudo = np.load('C:/Users/SMR_Admin/OneDrive - huji.ac.il/PhD/Network Simulation repo/figs and data/2024.8/30Aug_R_pseudo_vs_network/R_in_t_pseudo.npy')\n",
    "loss_in_t_network = np.load('C:/Users/SMR_Admin/OneDrive - huji.ac.il/PhD/Network Simulation repo/figs and data/2024.8/30Aug_R_pseudo_vs_network/loss_in_t_network.npy')\n",
    "loss_in_t_pseudo = np.load('C:/Users/SMR_Admin/OneDrive - huji.ac.il/PhD/Network Simulation repo/figs and data/2024.8/30Aug_R_pseudo_vs_network/loss_in_t_pseudo.npy')"
   ]
  },
  {
   "cell_type": "code",
   "execution_count": null,
   "id": "d6323889",
   "metadata": {},
   "outputs": [],
   "source": [
    "# Reload the module to reflect any changes made\n",
    "importlib.reload(plot_functions)"
   ]
  },
  {
   "cell_type": "code",
   "execution_count": null,
   "id": "cef44257",
   "metadata": {},
   "outputs": [],
   "source": [
    "plot_functions.plot_comparison_pseudo(R_in_t_pseudo, R_in_t_network, loss_in_t_pseudo, loss_in_t_network)"
   ]
  },
  {
   "cell_type": "markdown",
   "id": "dff4f364",
   "metadata": {},
   "source": [
    "## Statistics"
   ]
  },
  {
   "cell_type": "markdown",
   "id": "9030df2b",
   "metadata": {},
   "source": [
    "### Error"
   ]
  },
  {
   "cell_type": "code",
   "execution_count": null,
   "id": "d583a34f",
   "metadata": {},
   "outputs": [],
   "source": [
    "final_err = statistics.final_err(BigClass, 40)\n",
    "print('final_err', final_err)"
   ]
  },
  {
   "cell_type": "markdown",
   "id": "defc506b",
   "metadata": {},
   "source": [
    "### Accuracy"
   ]
  },
  {
   "cell_type": "code",
   "execution_count": null,
   "id": "781d4eff",
   "metadata": {
    "scrolled": true
   },
   "outputs": [],
   "source": [
    "accuracy = zeros(np.shape(Variabs.dataset)[0])\n",
    "for i, datapoint in enumerate(Variabs.dataset):\n",
    "    State.draw_p_in_and_desired(Variabs, i)\n",
    "    State.solve_flow_given_problem(BigClass, \"measure\")  # measure and don't change resistances\n",
    "    print('net prediction', np.sum((State.targets_mat - State.output)**2, axis=1))\n",
    "    accuracy[i] = statistics.calculate_accuracy(State.output, State.target_mat, Variabs.targets[i])"
   ]
  },
  {
   "cell_type": "code",
   "execution_count": null,
   "id": "564ebcc2",
   "metadata": {},
   "outputs": [],
   "source": [
    "np.mean(accuracy)"
   ]
  },
  {
   "cell_type": "markdown",
   "id": "01370ac5",
   "metadata": {},
   "source": [
    "## Checks"
   ]
  },
  {
   "cell_type": "code",
   "execution_count": null,
   "id": "e217b356",
   "metadata": {},
   "outputs": [],
   "source": [
    "from sklearn.datasets import load_iris\n",
    "from sklearn.preprocessing import OneHotEncoder, MinMaxScaler\n",
    "from sklearn.utils import shuffle\n",
    "from numpy.linalg import norm"
   ]
  },
  {
   "cell_type": "code",
   "execution_count": null,
   "id": "7f5f97f0",
   "metadata": {},
   "outputs": [],
   "source": [
    "# Load the Iris dataset\n",
    "iris = load_iris()\n",
    "dataset, numerical_targets = shuffle(iris['data'], iris['target'], random_state=42)\n",
    "# Min-Max Scale dataset to [0, 4]\n",
    "min_max_scaler = MinMaxScaler(feature_range=(0, 4))\n",
    "dataset = min_max_scaler.fit_transform(dataset)\n",
    "# One-hot encode the label\n",
    "encoder = OneHotEncoder(sparse_output=False, categories='auto')\n",
    "targets_reshaped = numerical_targets.reshape(-1, 1)  # Reshape for the encoder\n",
    "targets = encoder.fit_transform(targets_reshaped)"
   ]
  }
 ],
 "metadata": {
  "kernelspec": {
   "display_name": "Python 3 (ipykernel)",
   "language": "python",
   "name": "python3"
  },
  "language_info": {
   "codemirror_mode": {
    "name": "ipython",
    "version": 3
   },
   "file_extension": ".py",
   "mimetype": "text/x-python",
   "name": "python",
   "nbconvert_exporter": "python",
   "pygments_lexer": "ipython3",
   "version": "3.8.18"
  }
 },
 "nbformat": 4,
 "nbformat_minor": 5
}
