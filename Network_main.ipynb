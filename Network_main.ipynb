{
 "cells": [
  {
   "cell_type": "code",
   "execution_count": null,
   "id": "096421ca",
   "metadata": {},
   "outputs": [],
   "source": [
    "%load_ext nb_mypy\n",
    "%nb_mypy Off"
   ]
  },
  {
   "cell_type": "code",
   "execution_count": null,
   "id": "6b12612a",
   "metadata": {},
   "outputs": [],
   "source": [
    "from __future__ import annotations\n",
    "import numpy as np\n",
    "import random\n",
    "import copy\n",
    "import importlib\n",
    "\n",
    "from typing import Tuple, List\n",
    "from numpy import array, zeros\n",
    "\n",
    "# from Big_Class import Big_Class  # already imported one NETfuncs is imported\n",
    "from User_Variables import User_Variables  # already imported one NETfuncs is imported\n",
    "from Network_Structure import Network_Structure  # already imported one NETfuncs is imported\n",
    "from Big_Class import Big_Class\n",
    "from Network_State import Network_State\n",
    "from Networkx_Net import Networkx_Net\n",
    "import matrix_functions, functions, statistics, plot_functions, solve, figure_plots"
   ]
  },
  {
   "cell_type": "markdown",
   "id": "ed5e4cb7",
   "metadata": {},
   "source": [
    "## Set up Network"
   ]
  },
  {
   "cell_type": "code",
   "execution_count": null,
   "id": "c542e319",
   "metadata": {},
   "outputs": [],
   "source": [
    "## Parameters\n",
    "\n",
    "## task type\n",
    "# task_type='Iris_classification'\n",
    "task_type='Regression'\n",
    "\n",
    "## task matrix X\n",
    "M_values: np.ndarray = array([0.15, 0.2, 0.25, 0.1, 0.02, 0.3, 0.35, 0.15, 0.03, 0.25, 0.1, 0.15, 0.02, 0.3, 0.35, 0.15, 0.03])\n",
    "# M_values: np.ndarray = array([0.5, 0., 0., 0.1])\n",
    "\n",
    "## specify # of nodes\n",
    "Nin: int = 1\n",
    "extraNin: int = 0\n",
    "Ninter: int = 0\n",
    "Nout: int = 2\n",
    "extraNout: int = 0\n",
    "\n",
    "# learning rate\n",
    "# alpha_vec = np.array([0.2, 0.5, 1.0, 2.0, 2.5, 2.7, 3.5, 4.0, 8.0])  # 1D array = const alpha, array of arrays = annealed\n",
    "# alpha_vec = np.array([np.append(np.linspace(4.1,4.8,200), np.linspace(4.8,4.1,200))])  # 1D array for constant alpha, array of arrays for annealed alpha\n",
    "# alpha_vec: np.ndarray = np.array([0.2])  # for allostery, regression and general_reg\n",
    "# alpha_vec = np.array([0.1])  # for general_reg_allRsChange\n",
    "# alpha_vec = np.array([np.linspace(5,3.85,40)])  # 1D array for constant alpha, array of arrays for annealed alpha\n",
    "# alpha_vec = np.array([4.8])\n",
    "alpha: float = 1.0  # for network combine attempt\n",
    "\n",
    "# resistance-pressure proportionality factor\n",
    "gamma: np.ndarray = np.array([1.0])\n",
    "\n",
    "## method to update resistances - physical property of the system\n",
    "R_update: str = 'R_propto_dp'\n",
    "# R_update: str = 'deltaR_propto_dp'\n",
    "# R_update: str = 'R_propto_Q'\n",
    "# R_update: str = 'deltaR_propto_Q'\n",
    "# R_update: str = 'deltaR_propto_Power'\n",
    "# R_vec_i = array([1.9, 1., 0.85, 1.05, 0.9, 1., 0.85, 1.05, 0.9, 3., 0.85, 1.05, 0.9, 1., 0.85, 1.05, 1., 2.95, 0.55])\n",
    "# R_vec_i = array([3.74, 3.16, 1.38, -7.07, -3.01, 1.40, 1., 1., 1., 1., 1.])  # regression using 2in3out, M values [0.15, 0.2, 0.25, 0.1, 0.02, 0.3]\n",
    "R_vec_i = np.ones(Nin*Nout + Nin + Nout)\n",
    "\n",
    "# length of training dataset\n",
    "iterations = 1600  # number of sampled of p\n",
    "\n",
    "# measure accuracy every # steps\n",
    "measure_accuracy_every = 15\n",
    "\n",
    "supress_prints: bool = False  # whether to print information during training or not\n",
    "bc_noise: float = 0.0  # noise to dual problem\n",
    "# use_p_tag: bool = True  # use 1 or 2 sampled pressures at every time step\n",
    "use_p_tag: bool = False\n",
    "include_Power: bool = True\n",
    "# include_Power: bool = False\n",
    "lam = 0.018  # lambda parameter for penalty on Power dissipation\n",
    "# lam = 5.0  # lambda parameter for penalty on Power dissipation\n",
    "\n",
    "stay_sample: int = 2  # how many loop iterations to stay under the same sampled p\n",
    "# stay_sample: int = 100\n",
    "\n",
    "## Networkx sizes\n",
    "scale: float = 50.0\n",
    "squish: float = 0.01"
   ]
  },
  {
   "cell_type": "code",
   "execution_count": null,
   "id": "80f9f2b0",
   "metadata": {},
   "outputs": [],
   "source": [
    "## User Variables - Keep those since not in use Sep2024\n",
    "\n",
    "access_interNodes: bool = False  # access and change pressure at interNodes (nodes between input and output) or not\n",
    "noise_to_extra: bool = False  # add noise to extra outputs "
   ]
  },
  {
   "cell_type": "code",
   "execution_count": null,
   "id": "7ee07fdf",
   "metadata": {},
   "outputs": [],
   "source": [
    "## Variables class - mostly user choices\n",
    "Variabs = User_Variables(iterations,\\\n",
    "                         Nin, \\\n",
    "                         extraNin, \\\n",
    "                         Ninter, \\\n",
    "                         Nout, \\\n",
    "                         extraNout, \\\n",
    "                         gamma, \\\n",
    "                         R_update, \\\n",
    "                         use_p_tag, \\\n",
    "                         include_Power, lam, \\\n",
    "                         supress_prints, \\\n",
    "                         bc_noise, \\\n",
    "                         access_interNodes, \\\n",
    "                         task_type, \\\n",
    "                         M_values, \\\n",
    "                         measure_accuracy_every)\n",
    "Variabs.assign_alpha_vec(alpha)\n",
    "print('alpha_vec', Variabs.alpha_vec)\n",
    "Variabs.create_dataset_and_targets(M_values)\n",
    "Variabs.create_noise_for_extras()"
   ]
  },
  {
   "cell_type": "code",
   "execution_count": null,
   "id": "8b852908",
   "metadata": {},
   "outputs": [],
   "source": [
    "## Assign input and output nodes a.f.o lattice size and row choice\n",
    "inInterOutGround_tuple = matrix_functions.build_input_output_and_ground(Variabs.Nin, Variabs. extraNin, Variabs.Ninter, \n",
    "                                                                        Variabs.Nout, Variabs.extraNout)"
   ]
  },
  {
   "cell_type": "code",
   "execution_count": null,
   "id": "181d8c02",
   "metadata": {},
   "outputs": [],
   "source": [
    "print('input_nodes_arr ', inInterOutGround_tuple[0])\n",
    "print('extraInput_nodes_arr ', inInterOutGround_tuple[1])\n",
    "print('inter_nodes_arr ', inInterOutGround_tuple[2])\n",
    "print('output_nodes_arr ', inInterOutGround_tuple[3])\n",
    "print('extraOutput_nodes_arr ', inInterOutGround_tuple[4])\n",
    "print('ground_nodes_arr ', inInterOutGround_tuple[5])"
   ]
  },
  {
   "cell_type": "code",
   "execution_count": null,
   "id": "76f6c4dd",
   "metadata": {},
   "outputs": [],
   "source": [
    "## Big Class containing all classes in Network Simulation\n",
    "BigClass = Big_Class(Variabs)"
   ]
  },
  {
   "cell_type": "code",
   "execution_count": null,
   "id": "1e5b3758",
   "metadata": {},
   "outputs": [],
   "source": [
    "## Structure class - build incidence matrices and 1d arrays of edges\n",
    "\n",
    "Strctr = Network_Structure(inInterOutGround_tuple)\n",
    "if Ninter >= 1:\n",
    "    Strctr.build_incidence('partialInter')\n",
    "else:\n",
    "    Strctr.build_incidence()\n",
    "Strctr.build_edges()\n",
    "BigClass.add_Strctr(Strctr)  # add to big class"
   ]
  },
  {
   "cell_type": "code",
   "execution_count": null,
   "id": "ab70cdb7",
   "metadata": {},
   "outputs": [],
   "source": [
    "## Initiate internal flow network state class\n",
    "\n",
    "State = Network_State(Variabs)\n",
    "if task_type == 'Iris_classification':\n",
    "    State.initiate_resistances(BigClass, R_vec_i)\n",
    "    State.initiate_accuracy_vec(BigClass, measure_accuracy_every)\n",
    "else:\n",
    "    State.initiate_resistances(BigClass, R_vec_i)\n",
    "BigClass.add_State(State)  # add to big class"
   ]
  },
  {
   "cell_type": "code",
   "execution_count": null,
   "id": "ce319736",
   "metadata": {},
   "outputs": [],
   "source": [
    "## build network graphics class and plot structure\n",
    "\n",
    "NET = Networkx_Net(scale, squish)\n",
    "NET.buildNetwork(BigClass)\n",
    "NET.build_pos_lattice(BigClass, plot=True, node_labels=True)\n",
    "BigClass.add_NET(NET)  # add to big class"
   ]
  },
  {
   "cell_type": "code",
   "execution_count": null,
   "id": "4419e8ad",
   "metadata": {},
   "outputs": [],
   "source": [
    "Strctr.EIEJ_plots"
   ]
  },
  {
   "cell_type": "markdown",
   "id": "bc53c168",
   "metadata": {},
   "source": [
    "## Train"
   ]
  },
  {
   "cell_type": "code",
   "execution_count": null,
   "id": "e8487cfb",
   "metadata": {
    "scrolled": true
   },
   "outputs": [],
   "source": [
    "for i in range(Variabs.iterations):\n",
    "    print('i', i)\n",
    "    \n",
    "    # if task is classification and iteration # is beginning of epoch\n",
    "    # draw output of network as output of mean of Irises\n",
    "    if i % iterations == 0 and task_type == 'Iris_classification':\n",
    "        State.assign_targets_Iris(BigClass)\n",
    "\n",
    "    # staying stay_sample iteration under same sample\n",
    "    if use_p_tag and noise_to_extra:\n",
    "        k = 2*(i//stay_sample) + 1\n",
    "        if not(i%4):\n",
    "            k-=1\n",
    "    elif use_p_tag and not(noise_to_extra):\n",
    "        k = (i//stay_sample)*2 + i%2\n",
    "    elif not(use_p_tag) and noise_to_extra:\n",
    "        k = (i//stay_sample)\n",
    "    else:\n",
    "        k = (i//stay_sample)\n",
    "    print('k', k)\n",
    "    \n",
    "    # draw input and desired outputs from dataset\n",
    "    if not((i+1) % 4):  # add noise only at i=3 etc.\n",
    "        State.draw_p_in_and_desired(Variabs, k, noise_to_extra=noise_to_extra)  # add noise to extra nodes every 2nd iteration\n",
    "        State.solve_flow_given_problem(BigClass, \"measure\", noise_to_extra=noise_to_extra)  # measure and don't change resistances\n",
    "    else:  # dont add noise to extra nodes\n",
    "        State.draw_p_in_and_desired(Variabs, k)\n",
    "        State.solve_flow_given_problem(BigClass, \"measure\")\n",
    "        \n",
    "    if include_Power:\n",
    "        State.calc_Power_norm(BigClass)\n",
    "    \n",
    "    if not i % 2 and use_p_tag:  # even iterations, take another sampled pressure and measure again\n",
    "        pass\n",
    "    else:  # odd iterations, go to dual problem and update resistances\n",
    "        State.t += 1\n",
    "        print('time=', State.t)\n",
    "        State.calc_loss(BigClass)\n",
    "        print('loss', State.loss)\n",
    "        if not((i+1) % 4) and access_interNodes:\n",
    "            print('updating inters')\n",
    "            State.update_inter_dual(BigClass)\n",
    "            print('solving dual problem')\n",
    "            State.solve_flow_given_problem(BigClass, \"dual\", access_inters=True)  # measure and don't change resistances\n",
    "        else:\n",
    "            State.update_input_dual(BigClass)\n",
    "            # State.update_extraInput_dual(BigClass)\n",
    "            State.update_output_dual(BigClass)\n",
    "            # State.update_extraOutput_dual(BigClass)\n",
    "            print('solving dual problem')\n",
    "            State.solve_flow_given_problem(BigClass, \"dual\", access_inters=False)  # measure and don't change resistances\n",
    "        # print('p', State.p)\n",
    "        # print('u', State.u)\n",
    "        print('updating Rs')\n",
    "        State.update_Rs(BigClass)\n",
    "        # print('Rs', State.R_in_t[-1])\n",
    "        \n",
    "    # measure accuracy\n",
    "    if i % measure_accuracy_every == 0 and task_type == 'Iris_classification' \\\n",
    "       and i//measure_accuracy_every<len(State.accuracy_in_t) and i>0:\n",
    "        State.calculate_accuracy_fullDataset(BigClass)\n",
    "        State.accuracy_in_t[i//measure_accuracy_every] = State.accuracy \n",
    "        State.t_for_accuracy[i//measure_accuracy_every] = State.t "
   ]
  },
  {
   "cell_type": "code",
   "execution_count": null,
   "id": "a2207f0f",
   "metadata": {},
   "outputs": [],
   "source": [
    "State.Power_norm\n",
    "State.Power_norm_in_t[-2]"
   ]
  },
  {
   "cell_type": "markdown",
   "id": "7cdb2c68",
   "metadata": {},
   "source": [
    "## Is the network linear?"
   ]
  },
  {
   "cell_type": "code",
   "execution_count": null,
   "id": "440a41d9",
   "metadata": {},
   "outputs": [],
   "source": [
    "# # put pressure of 1 through 1st input\n",
    "# State.input_drawn = np.array([1,0])\n",
    "\n",
    "# # solve flow\n",
    "# State.solve_flow_given_problem(BigClass, \"measure\")\n",
    "\n",
    "# # measure power\n",
    "# print('output 1', State.output)\n",
    "# out1 = State.output\n",
    "\n",
    "# # put pressure of 1 through 1st input\n",
    "# State.input_drawn = np.array([0,1])\n",
    "\n",
    "# # solve flow\n",
    "# State.solve_flow_given_problem(BigClass, \"measure\")\n",
    "\n",
    "# # measure power\n",
    "# print('output 2', State.output)\n",
    "# out2 = State.output\n",
    "\n",
    "# print('superpose outputs', out1+out2)\n",
    "\n",
    "# # put pressure of 1 through inputs\n",
    "# State.input_drawn = np.ones(Nin)\n",
    "\n",
    "# # solve flow\n",
    "# State.solve_flow_given_problem(BigClass, \"measure\")\n",
    "\n",
    "# # measure power\n",
    "# print('output both', State.output)"
   ]
  },
  {
   "cell_type": "markdown",
   "id": "4623c3d3",
   "metadata": {},
   "source": [
    "## Plots"
   ]
  },
  {
   "cell_type": "markdown",
   "id": "fb7f01d8",
   "metadata": {},
   "source": [
    "### importants + network"
   ]
  },
  {
   "cell_type": "code",
   "execution_count": null,
   "id": "edda6f84",
   "metadata": {},
   "outputs": [],
   "source": [
    "if hasattr(Variabs, 'M'):\n",
    "    plot_functions.plot_importants(State, Variabs, State.desired_in_t, Variabs.M, include_network=True, NET=NET)\n",
    "else:\n",
    "    plot_functions.plot_importants(State, Variabs, State.desired_in_t, include_network=True)"
   ]
  },
  {
   "cell_type": "code",
   "execution_count": null,
   "id": "0744ba0b",
   "metadata": {},
   "outputs": [],
   "source": [
    "import importlib \n",
    "# Re-import the module import your_module \n",
    "importlib.reload(plot_functions)"
   ]
  },
  {
   "cell_type": "code",
   "execution_count": null,
   "id": "1a522118",
   "metadata": {},
   "outputs": [],
   "source": [
    "if np.size(State.Power_norm_in_t)>1:\n",
    "    plot_functions.plot_Power(State)\n",
    "else:\n",
    "    pass"
   ]
  },
  {
   "cell_type": "markdown",
   "id": "84a0e3f0",
   "metadata": {},
   "source": [
    "### accuracy"
   ]
  },
  {
   "cell_type": "code",
   "execution_count": null,
   "id": "3c5b1dff",
   "metadata": {},
   "outputs": [],
   "source": [
    "if task_type == 'Iris_classification':\n",
    "    plot_functions.plot_accuracy(State.t, State.t_for_accuracy, State.accuracy_in_t, np.shape(Variabs.dataset)[0])\n",
    "else:\n",
    "    pass"
   ]
  },
  {
   "cell_type": "code",
   "execution_count": null,
   "id": "a3347628",
   "metadata": {},
   "outputs": [],
   "source": [
    "# State.accuracy_in_t"
   ]
  },
  {
   "cell_type": "code",
   "execution_count": null,
   "id": "dba2d7eb",
   "metadata": {},
   "outputs": [],
   "source": [
    "State.output_in_t"
   ]
  },
  {
   "cell_type": "markdown",
   "id": "97b1f45b",
   "metadata": {},
   "source": [
    "## Power of trained network\n",
    "\n",
    "put a pressure of 1 through all inputs and measure total power dissipation in a trained network that has the state State"
   ]
  },
  {
   "cell_type": "code",
   "execution_count": null,
   "id": "a5f76d4b",
   "metadata": {},
   "outputs": [],
   "source": [
    "# Reload the module to reflect any changes made\n",
    "importlib.reload(statistics)\n",
    "\n",
    "# put pressure of 1 through inputs\n",
    "State.input_drawn = np.ones(Nin)\n",
    "\n",
    "# solve flow\n",
    "State.solve_flow_given_problem(BigClass, \"measure\")\n",
    "\n",
    "# measure power\n",
    "print('u', State.u)\n",
    "print('Rs', State.R_in_t[-1])\n",
    "print('Power dissipation', statistics.power_dissip(State.u, State.R_in_t[-1]))"
   ]
  },
  {
   "cell_type": "markdown",
   "id": "4f38cd5d",
   "metadata": {},
   "source": [
    "## Save sizes to file"
   ]
  },
  {
   "cell_type": "code",
   "execution_count": null,
   "id": "8c3a1c85",
   "metadata": {},
   "outputs": [],
   "source": [
    "save_folder_prelim = 'C:/Users/SMR_Admin/OneDrive - huji.ac.il/PhD/Network Simulation repo/Network combine/Network_combine/'\n",
    "        \n",
    "# np.save(save_folder_prelim + 't_2in1out.npy', State.t)\n",
    "# np.save(save_folder_prelim + 'M_2in1out.npy', M_values)\n",
    "# np.save(save_folder_prelim + 'output_2in1out_RproptoDeltap.npy', np.asarray(State.output_in_t)/np.asarray(State.desired_in_t)-1)\n",
    "# np.save(save_folder_prelim + 'input_dual_2in1out_RproptoDeltap.npy', State.input_dual_in_t)\n",
    "# np.save(save_folder_prelim + 'output_dual_2in1out_RproptoDeltap.npy', State.output_dual_in_t)\n",
    "# np.save(save_folder_prelim + 'R_2in1out_RproptoDeltap.npy', State.R_in_t)\n",
    "# np.save(save_folder_prelim + 'loss_2in1out_RproptoDeltap.npy', State.loss_in_t)\n",
    "\n",
    "# import pickle\n",
    "# # NET.NET networkx graph\n",
    "# with open(save_folder_prelim + 'NETgraph_1in2out.pkl', 'wb') as f:\n",
    "#     pickle.dump(NET.NET, f)\n",
    "    \n",
    "# # Save the dictionary to a file\n",
    "# with open(save_folder_prelim + 'pos_lattice_1in2out.pkl', 'wb') as f:\n",
    "#     pickle.dump(NET.pos_lattice, f)\n",
    "      \n",
    "# np.save(save_folder_prelim + 'output_2in1out.npy', np.asarray(State.output_in_t)/np.asarray(State.desired_in_t)-1)\n",
    "# np.save(save_folder_prelim + 'input_dual_2in1out.npy', State.input_dual_in_t)\n",
    "# np.save(save_folder_prelim + 'output_dual_2in1out.npy', State.output_dual_in_t)\n",
    "# np.save(save_folder_prelim + 'R_2in1out.npy', State.R_in_t)\n",
    "# np.save(save_folder_prelim + 'loss_2in1out.npy', State.loss_in_t)\n",
    "\n",
    "# import pickle\n",
    "# # NET.NET networkx graph\n",
    "# with open(save_folder_prelim + 'NETgraph_2in1out.pkl', 'wb') as f:\n",
    "#     pickle.dump(NET.NET, f)\n",
    "    \n",
    "# # Save the dictionary to a file\n",
    "# with open(save_folder_prelim + 'pos_lattice_2in1out.pkl', 'wb') as f:\n",
    "#     pickle.dump(NET.pos_lattice, f)"
   ]
  },
  {
   "cell_type": "markdown",
   "id": "66a01a67",
   "metadata": {},
   "source": [
    "### R change scheme under 2 tasks"
   ]
  },
  {
   "cell_type": "code",
   "execution_count": null,
   "id": "313ec595",
   "metadata": {},
   "outputs": [],
   "source": [
    "import pickle\n",
    "\n",
    "load_folder_prelim = 'C:/Users/SMR_Admin/OneDrive - huji.ac.il/PhD/Network Simulation repo/figs and data/2024.9/importants_1in2out_n_2in1out/'\n",
    "\n",
    "t = np.load(load_folder_prelim + 't_1in2out.npy')\n",
    "\n",
    "loss_1in2out_R_propto_deltap = np.load(load_folder_prelim + 'loss_1in2out_RproptoDeltap.npy')\n",
    "loss_1in2out_deltaR_propto_deltap = np.load(load_folder_prelim + 'loss_1in2out_deltaRproptoDeltap.npy')\n",
    "loss_1in2out_propto_Q = np.load(load_folder_prelim + 'loss_1in2out_deltaRproptoQ.npy')\n",
    "loss_1in2out_propto_Power = np.load(load_folder_prelim + 'loss_1in2out_deltaRproptoPower.npy')\n",
    "loss_2in1out_R_propto_deltap = np.load(load_folder_prelim + 'loss_2in1out_RproptoDeltap.npy')\n",
    "loss_2in1out_deltaR_propto_deltap = np.load(load_folder_prelim + 'loss_2in1out_deltaRproptoDeltap.npy')\n",
    "loss_2in1out_propto_Q = np.load(load_folder_prelim + 'loss_2in1out_deltaRproptoQ.npy')\n",
    "loss_2in1out_propto_Power = np.load(load_folder_prelim + 'loss_2in1out_deltaRproptoPower.npy')\n",
    "\n",
    "with open(load_folder_prelim + 'NETgraph_1in2out.pkl', 'rb') as f:\n",
    "    Network_1in2out = pickle.load(f)\n",
    "    \n",
    "with open(load_folder_prelim + 'NETgraph_2in1out.pkl', 'rb') as f:\n",
    "    Network_2in1out = pickle.load(f)\n",
    "    \n",
    "with open(load_folder_prelim + 'pos_lattice_2in1out.pkl', 'rb') as f:\n",
    "    pos_lattice = pickle.load(f) "
   ]
  },
  {
   "cell_type": "code",
   "execution_count": null,
   "id": "de5143b7",
   "metadata": {},
   "outputs": [],
   "source": [
    "# Reload the module to reflect any changes made\n",
    "importlib.reload(figure_plots)\n",
    "\n",
    "figure_plots.plot_compare_R_type_loss(t, Network_1in2out, Network_2in1out, pos_lattice,\n",
    "                         loss_1in2out_R_propto_deltap,\n",
    "                         loss_1in2out_deltaR_propto_deltap,\n",
    "                         loss_1in2out_propto_Q,\n",
    "                         loss_1in2out_propto_Power,\n",
    "                         loss_2in1out_R_propto_deltap,\n",
    "                         loss_2in1out_deltaR_propto_deltap,\n",
    "                         loss_2in1out_propto_Q,\n",
    "                         loss_2in1out_propto_Power)"
   ]
  },
  {
   "cell_type": "markdown",
   "id": "7f15d9c9",
   "metadata": {},
   "source": [
    "### 2 Network examples"
   ]
  },
  {
   "cell_type": "code",
   "execution_count": null,
   "id": "ba846524",
   "metadata": {},
   "outputs": [],
   "source": [
    "import pickle\n",
    "\n",
    "load_folder_prelim = 'C:/Users/SMR_Admin/OneDrive - huji.ac.il/PhD/Network Simulation repo/figs and data/2024.9/inner_variables_2examples/'\n",
    "\n",
    "t = np.load(load_folder_prelim + 't.npy')\n",
    "M = np.load(load_folder_prelim + 'M.npy')\n",
    "\n",
    "output_1in2out = np.load(load_folder_prelim + 'output_1in2out.npy')\n",
    "input_dual_1in2out = np.load(load_folder_prelim + 'input_dual_1in2out.npy')\n",
    "output_dual_1in2out = np.load(load_folder_prelim + 'output_dual_1in2out.npy')\n",
    "R_1in2out = np.load(load_folder_prelim + 'R_1in2out.npy')\n",
    "loss_1in2out = np.load(load_folder_prelim + 'loss_1in2out.npy')\n",
    "\n",
    "output_2in1out = np.load(load_folder_prelim + 'output_2in1out.npy')\n",
    "input_dual_2in1out = np.load(load_folder_prelim + 'input_dual_2in1out.npy')\n",
    "output_dual_2in1out = np.load(load_folder_prelim + 'output_dual_2in1out.npy')\n",
    "R_2in1out = np.load(load_folder_prelim + 'R_2in1out.npy')\n",
    "loss_2in1out = np.load(load_folder_prelim + 'loss_2in1out.npy')\n",
    "with open(load_folder_prelim + 'NETgraph_1in2out.pkl', 'rb') as f:\n",
    "    NET_1in2out = pickle.load(f)\n",
    "    \n",
    "with open(load_folder_prelim + 'pos_lattice_1in2out.pkl', 'rb') as f:\n",
    "    pos_lattice_1in2out = pickle.load(f)\n",
    "    \n",
    "with open(load_folder_prelim + 'NETgraph_2in1out.pkl', 'rb') as f:\n",
    "    NET_2in1out = pickle.load(f)\n",
    "    \n",
    "with open(load_folder_prelim + 'pos_lattice_2in1out.pkl', 'rb') as f:\n",
    "    pos_lattice_2in1out = pickle.load(f)    "
   ]
  },
  {
   "cell_type": "code",
   "execution_count": null,
   "id": "3455c0fd",
   "metadata": {},
   "outputs": [],
   "source": [
    "# Reload the module to reflect any changes made\n",
    "importlib.reload(plot_functions)\n",
    "\n",
    "plot_functions.plot_performance_2(M, t, output_1in2out, output_2in1out, input_dual_1in2out, input_dual_2in1out, \n",
    "                                  output_dual_1in2out, output_dual_2in1out, R_1in2out, R_2in1out, loss_1in2out, loss_2in1out,\n",
    "                                  NET_1in2out, NET_2in1out, pos_lattice_1in2out, pos_lattice_2in1out)"
   ]
  },
  {
   "cell_type": "markdown",
   "id": "d4d63610",
   "metadata": {},
   "source": [
    "### different R relations"
   ]
  },
  {
   "cell_type": "code",
   "execution_count": null,
   "id": "70ac222a",
   "metadata": {},
   "outputs": [],
   "source": [
    "# np.save('C:/Users/SMR_Admin/OneDrive - huji.ac.il/PhD/Network Simulation repo/Network combine/Network_combine/R_propto_deltap.npy', R_propto_deltap)\n",
    "# np.save('C:/Users/SMR_Admin/OneDrive - huji.ac.il/PhD/Network Simulation repo/Network combine/Network_combine/deltaR_propto_deltap.npy', deltaR_propto_deltap)\n",
    "# np.save('C:/Users/SMR_Admin/OneDrive - huji.ac.il/PhD/Network Simulation repo/Network combine/Network_combine/deltaR_propto_Q.npy', deltaR_propto_Q)\n",
    "# np.save('C:/Users/SMR_Admin/OneDrive - huji.ac.il/PhD/Network Simulation repo/Network combine/Network_combine/deltaR_propto_Power.npy', deltaR_propto_Power)\n",
    "# np.save('C:/Users/SMR_Admin/OneDrive - huji.ac.il/PhD/Network Simulation repo/Network combine/Network_combine/loss_R_propto_deltap.npy', loss_R_propto_deltap)\n",
    "# np.save('C:/Users/SMR_Admin/OneDrive - huji.ac.il/PhD/Network Simulation repo/Network combine/Network_combine/loss_deltaR_propto_deltap.npy', loss_deltaR_propto_deltap)\n",
    "# np.save('C:/Users/SMR_Admin/OneDrive - huji.ac.il/PhD/Network Simulation repo/Network combine/Network_combine/loss_propto_Q.npy', loss_propto_Q)\n",
    "# np.save('C:/Users/SMR_Admin/OneDrive - huji.ac.il/PhD/Network Simulation repo/Network combine/Network_combine/loss_propto_Power.npy', loss_propto_Power)\n",
    "# np.save('C:/Users/SMR_Admin/OneDrive - huji.ac.il/PhD/Network Simulation repo/Network combine/Network_combine/t_final.npy', State.t)\n",
    "# np.save('C:/Users/SMR_Admin/OneDrive - huji.ac.il/PhD/Network Simulation repo/Network combine/Network_combine/t_for_accuracy.npy', State.t_for_accuracy)\n",
    "# np.save('C:/Users/SMR_Admin/OneDrive - huji.ac.il/PhD/Network Simulation repo/Network combine/Network_combine/accuracy.npy', State.accuracy_in_t)\n",
    "# np.save('C:/Users/SMR_Admin/OneDrive - huji.ac.il/PhD/Network Simulation repo/Network combine/Network_combine/dataset_len.npy', np.shape(Variabs.dataset)[0])"
   ]
  },
  {
   "cell_type": "code",
   "execution_count": null,
   "id": "f58d5ca1",
   "metadata": {},
   "outputs": [],
   "source": [
    "# Loading the array later\n",
    "R_propto_deltap = np.load('C:/Users/SMR_Admin/OneDrive - huji.ac.il/PhD/Network Simulation repo/figs and data/2024.9/different physical dependence of resistance/R_propto_deltap.npy')\n",
    "deltaR_propto_deltap = np.load('C:/Users/SMR_Admin/OneDrive - huji.ac.il/PhD/Network Simulation repo/figs and data/2024.9/different physical dependence of resistance/deltaR_propto_deltap.npy')\n",
    "deltaR_propto_Q = np.load('C:/Users/SMR_Admin/OneDrive - huji.ac.il/PhD/Network Simulation repo/figs and data/2024.9/different physical dependence of resistance/deltaR_propto_Q.npy')\n",
    "deltaR_propto_Power = np.load('C:/Users/SMR_Admin/OneDrive - huji.ac.il/PhD/Network Simulation repo/figs and data/2024.9/different physical dependence of resistance/deltaR_propto_Power.npy')\n",
    "loss_R_propto_deltap = np.load('C:/Users/SMR_Admin/OneDrive - huji.ac.il/PhD/Network Simulation repo/figs and data/2024.9/different physical dependence of resistance/loss_R_propto_deltap.npy')\n",
    "loss_deltaR_propto_deltap = np.load('C:/Users/SMR_Admin/OneDrive - huji.ac.il/PhD/Network Simulation repo/figs and data/2024.9/different physical dependence of resistance/loss_deltaR_propto_deltap.npy')\n",
    "loss_propto_Q = np.load('C:/Users/SMR_Admin/OneDrive - huji.ac.il/PhD/Network Simulation repo/figs and data/2024.9/different physical dependence of resistance/loss_propto_Q.npy')\n",
    "loss_propto_Power = np.load('C:/Users/SMR_Admin/OneDrive - huji.ac.il/PhD/Network Simulation repo/figs and data/2024.9/different physical dependence of resistance/loss_propto_Power.npy')"
   ]
  },
  {
   "cell_type": "code",
   "execution_count": null,
   "id": "c76f6c0d",
   "metadata": {},
   "outputs": [],
   "source": [
    "# Reload the module to reflect any changes made\n",
    "importlib.reload(plot_functions)"
   ]
  },
  {
   "cell_type": "code",
   "execution_count": null,
   "id": "11bcb773",
   "metadata": {
    "scrolled": false
   },
   "outputs": [],
   "source": [
    "plot_functions.plot_comparison_R_type(R_propto_deltap, deltaR_propto_deltap, deltaR_propto_Q, deltaR_propto_Power,\n",
    "                                      loss_R_propto_deltap, loss_deltaR_propto_deltap, loss_propto_Q, loss_propto_Power)"
   ]
  },
  {
   "cell_type": "markdown",
   "id": "3ce7a96a",
   "metadata": {},
   "source": [
    "### pseudo vs. network comparison"
   ]
  },
  {
   "cell_type": "code",
   "execution_count": null,
   "id": "fd1e7794",
   "metadata": {},
   "outputs": [],
   "source": [
    "# R_in_t_network = State.R_in_t\n",
    "# R_in_t_pseudo = State.R_in_t\n",
    "# loss_network = State.loss_in_t\n",
    "# loss_pseudo = State.loss_in_t"
   ]
  },
  {
   "cell_type": "code",
   "execution_count": null,
   "id": "84ddd4bd",
   "metadata": {},
   "outputs": [],
   "source": [
    "# np.save('C:/Users/SMR_Admin/OneDrive - huji.ac.il/PhD/Network Simulation repo/Network combine/Network_combine/R_in_t_network.npy', R_in_t_network)\n",
    "# np.save('C:/Users/SMR_Admin/OneDrive - huji.ac.il/PhD/Network Simulation repo/Network combine/Network_combine/R_in_t_pseudo.npy', R_in_t_pseudo)\n",
    "# np.save('C:/Users/SMR_Admin/OneDrive - huji.ac.il/PhD/Network Simulation repo/Network combine/Network_combine/loss_in_t_network.npy', loss_network)\n",
    "# np.save('C:/Users/SMR_Admin/OneDrive - huji.ac.il/PhD/Network Simulation repo/Network combine/Network_combine/loss_in_t_pseudo.npy', loss_pseudo)"
   ]
  },
  {
   "cell_type": "code",
   "execution_count": null,
   "id": "8f4992a1",
   "metadata": {},
   "outputs": [],
   "source": [
    "# Loading the array later\n",
    "R_in_t_network = np.load('C:/Users/SMR_Admin/OneDrive - huji.ac.il/PhD/Network Simulation repo/figs and data/2024.8/30Aug_R_pseudo_vs_network/R_in_t_network.npy')\n",
    "R_in_t_pseudo = np.load('C:/Users/SMR_Admin/OneDrive - huji.ac.il/PhD/Network Simulation repo/figs and data/2024.8/30Aug_R_pseudo_vs_network/R_in_t_pseudo.npy')\n",
    "loss_in_t_network = np.load('C:/Users/SMR_Admin/OneDrive - huji.ac.il/PhD/Network Simulation repo/figs and data/2024.8/30Aug_R_pseudo_vs_network/loss_in_t_network.npy')\n",
    "loss_in_t_pseudo = np.load('C:/Users/SMR_Admin/OneDrive - huji.ac.il/PhD/Network Simulation repo/figs and data/2024.8/30Aug_R_pseudo_vs_network/loss_in_t_pseudo.npy')"
   ]
  },
  {
   "cell_type": "code",
   "execution_count": null,
   "id": "d6323889",
   "metadata": {},
   "outputs": [],
   "source": [
    "# Reload the module to reflect any changes made\n",
    "importlib.reload(plot_functions)"
   ]
  },
  {
   "cell_type": "code",
   "execution_count": null,
   "id": "cef44257",
   "metadata": {},
   "outputs": [],
   "source": [
    "plot_functions.plot_comparison_pseudo(R_in_t_pseudo, R_in_t_network, loss_in_t_pseudo, loss_in_t_network)"
   ]
  },
  {
   "cell_type": "code",
   "execution_count": null,
   "id": "b79de277",
   "metadata": {},
   "outputs": [],
   "source": [
    "t_final = np.load('C:/Users/SMR_Admin/OneDrive - huji.ac.il/PhD/Network Simulation repo/figs and data/2024.9/accuracy_pt8/t_final.npy')\n",
    "t_for_accuracy = np.load('C:/Users/SMR_Admin/OneDrive - huji.ac.il/PhD/Network Simulation repo/figs and data/2024.9/accuracy_pt8/t_for_accuracy.npy')\n",
    "accuracy_in_t = np.load('C:/Users/SMR_Admin/OneDrive - huji.ac.il/PhD/Network Simulation repo/figs and data/2024.9/accuracy_pt8/accuracy.npy')\n",
    "dataset_len = np.load('C:/Users/SMR_Admin/OneDrive - huji.ac.il/PhD/Network Simulation repo/figs and data/2024.9/accuracy_pt8/dataset_len.npy')"
   ]
  },
  {
   "cell_type": "code",
   "execution_count": null,
   "id": "ac90cd64",
   "metadata": {},
   "outputs": [],
   "source": [
    "plot_functions.plot_accuracy(t_final, t_for_accuracy, accuracy_in_t, dataset_len)"
   ]
  },
  {
   "cell_type": "markdown",
   "id": "dff4f364",
   "metadata": {},
   "source": [
    "## Statistics"
   ]
  },
  {
   "cell_type": "markdown",
   "id": "9030df2b",
   "metadata": {},
   "source": [
    "### Error"
   ]
  },
  {
   "cell_type": "code",
   "execution_count": null,
   "id": "d583a34f",
   "metadata": {},
   "outputs": [],
   "source": [
    "final_err = statistics.final_err(BigClass, 40)\n",
    "print('final_err', final_err)"
   ]
  },
  {
   "cell_type": "markdown",
   "id": "01370ac5",
   "metadata": {},
   "source": [
    "## Checks"
   ]
  },
  {
   "cell_type": "code",
   "execution_count": null,
   "id": "e217b356",
   "metadata": {},
   "outputs": [],
   "source": [
    "from sklearn.datasets import load_iris\n",
    "from sklearn.preprocessing import OneHotEncoder, MinMaxScaler\n",
    "from sklearn.utils import shuffle\n",
    "from numpy.linalg import norm"
   ]
  },
  {
   "cell_type": "code",
   "execution_count": null,
   "id": "7f5f97f0",
   "metadata": {},
   "outputs": [],
   "source": [
    "# Load the Iris dataset\n",
    "iris = load_iris()\n",
    "dataset, numerical_targets = shuffle(iris['data'], iris['target'], random_state=42)\n",
    "# Min-Max Scale dataset to [0, 4]\n",
    "min_max_scaler = MinMaxScaler(feature_range=(0, 4))\n",
    "dataset = min_max_scaler.fit_transform(dataset)\n",
    "# One-hot encode the label\n",
    "encoder = OneHotEncoder(sparse_output=False, categories='auto')\n",
    "targets_reshaped = numerical_targets.reshape(-1, 1)  # Reshape for the encoder\n",
    "targets = encoder.fit_transform(targets_reshaped)"
   ]
  },
  {
   "cell_type": "code",
   "execution_count": null,
   "id": "f7c50f1e",
   "metadata": {},
   "outputs": [],
   "source": []
  }
 ],
 "metadata": {
  "kernelspec": {
   "display_name": "Python 3 (ipykernel)",
   "language": "python",
   "name": "python3"
  },
  "language_info": {
   "codemirror_mode": {
    "name": "ipython",
    "version": 3
   },
   "file_extension": ".py",
   "mimetype": "text/x-python",
   "name": "python",
   "nbconvert_exporter": "python",
   "pygments_lexer": "ipython3",
   "version": "3.8.18"
  }
 },
 "nbformat": 4,
 "nbformat_minor": 5
}
