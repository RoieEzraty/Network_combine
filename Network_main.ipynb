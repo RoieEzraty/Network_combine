{
 "cells": [
  {
   "cell_type": "code",
   "execution_count": null,
   "id": "096421ca",
   "metadata": {},
   "outputs": [],
   "source": [
    "%load_ext nb_mypy\n",
    "%nb_mypy Off"
   ]
  },
  {
   "cell_type": "code",
   "execution_count": null,
   "id": "6b12612a",
   "metadata": {},
   "outputs": [],
   "source": [
    "from __future__ import annotations\n",
    "import numpy as np\n",
    "import random\n",
    "import copy\n",
    "\n",
    "from typing import Tuple, List\n",
    "from numpy import array, zeros\n",
    "\n",
    "# from Big_Class import Big_Class  # already imported one NETfuncs is imported\n",
    "from User_Variables import User_Variables  # already imported one NETfuncs is imported\n",
    "from Network_Structure import Network_Structure  # already imported one NETfuncs is imported\n",
    "from Big_Class import Big_Class\n",
    "from Network_State import Network_State\n",
    "from Networkx_Net import Networkx_Net\n",
    "import matrix_functions, functions, statistics, plot_functions, solve"
   ]
  },
  {
   "cell_type": "markdown",
   "id": "ed5e4cb7",
   "metadata": {},
   "source": [
    "## Set up Network"
   ]
  },
  {
   "cell_type": "code",
   "execution_count": null,
   "id": "c542e319",
   "metadata": {},
   "outputs": [],
   "source": [
    "## Parameters\n",
    "\n",
    "# task_type='Iris_classification'\n",
    "task_type='Regression'\n",
    "M_values: np.ndarray = array([0.15, 0.2, 0.25, 0.1, 0.02, 0.3, 0.35, 0.15, 0.03, 0.25, 0.1, 0.15, 0.02, 0.3, 0.35, 0.15, 0.03])\n",
    "\n",
    "Nin: int = 4\n",
    "Ninter: int = 0\n",
    "Nout: int = 1\n",
    "\n",
    "# learning rate\n",
    "# alpha_vec = np.array([0.2, 0.5, 1.0, 2.0, 2.5, 2.7, 3.5, 4.0, 8.0])  # 1D array = const alpha, array of arrays = annealed\n",
    "# alpha_vec = np.array([np.append(np.linspace(4.1,4.8,200), np.linspace(4.8,4.1,200))])  # 1D array for constant alpha, array of arrays for annealed alpha\n",
    "# alpha_vec: np.ndarray = np.array([0.2])  # for allostery, regression and general_reg\n",
    "# alpha_vec = np.array([0.1])  # for general_reg_allRsChange\n",
    "# alpha_vec = np.array([np.linspace(5,3.85,40)])  # 1D array for constant alpha, array of arrays for annealed alpha\n",
    "# alpha_vec = np.array([4.8])\n",
    "alpha: float = 0.5  # for network combine attempt\n",
    "\n",
    "# resistance-pressure proportionality factor\n",
    "gamma: np.ndarray = np.array([1.0])\n",
    "\n",
    "# R_update: str = 'propto'\n",
    "R_update: str = 'deltaR'\n",
    "R_vec_i = array([1.9, 1., 0.85, 1.05, 0.9, 1., 0.85, 1.05, 0.9, 3., 0.85, 1.05, 0.9, 1, 0.85, 1.05, 1., 2.95, 0.55])\n",
    "\n",
    "# training length\n",
    "iterations = 640  # number of sampled of p\n",
    "\n",
    "supress_prints: bool = False  # whether to print information during training or not\n",
    "bc_noise: float = 0.0  # noise to dual problem\n",
    "use_p_tag: bool = True  # use 1 or 2 sampled pressures at every time step\n",
    "# use_p_tag: bool = False\n",
    "# access_interNodes: bool = True  # access and change pressure at interNodes (nodes between input and output) or not\n",
    "access_interNodes: bool = False  # access and change pressure at interNodes (nodes between input and output) or not\n",
    "stay_sample: int = 2  # how many loop iterations to stay under the same sampled p\n",
    "\n",
    "## Networkx sizes\n",
    "scale: float = 5.0\n",
    "squish: float = 0.01"
   ]
  },
  {
   "cell_type": "code",
   "execution_count": null,
   "id": "7ee07fdf",
   "metadata": {},
   "outputs": [],
   "source": [
    "## Variables class - mostly user choices\n",
    "Variabs = User_Variables(iterations,\\\n",
    "                         Nin, \\\n",
    "                         Nout, \\\n",
    "                         gamma, \\\n",
    "                         R_update, \\\n",
    "                         use_p_tag, \\\n",
    "                         supress_prints, \\\n",
    "                         bc_noise, \\\n",
    "                         access_interNodes, \\\n",
    "                         task_type, \\\n",
    "                         M_values, \\\n",
    "                         Ninter)\n",
    "Variabs.assign_alpha_vec(alpha)\n",
    "print('alpha_vec', Variabs.alpha_vec)\n",
    "Variabs.create_dataset_and_targets(M_values)"
   ]
  },
  {
   "cell_type": "code",
   "execution_count": null,
   "id": "8b852908",
   "metadata": {},
   "outputs": [],
   "source": [
    "## Assign input and output nodes a.f.o lattice size and row choice\n",
    "input_nodes_arr, inter_nodes_arr, output_nodes_arr, ground_nodes_arr = matrix_functions.build_input_output_and_ground(Variabs.Nin, Variabs.Ninter, Variabs.Nout)"
   ]
  },
  {
   "cell_type": "code",
   "execution_count": null,
   "id": "181d8c02",
   "metadata": {},
   "outputs": [],
   "source": [
    "print('input_nodes_arr ', input_nodes_arr)\n",
    "print('inter_nodes_arr ', inter_nodes_arr)\n",
    "print('output_nodes_arr ', output_nodes_arr)\n",
    "print('ground_nodes_arr ', ground_nodes_arr)"
   ]
  },
  {
   "cell_type": "code",
   "execution_count": null,
   "id": "76f6c4dd",
   "metadata": {},
   "outputs": [],
   "source": [
    "## Big Class containing all classes in Network Simulation\n",
    "BigClass = Big_Class(Variabs)"
   ]
  },
  {
   "cell_type": "code",
   "execution_count": null,
   "id": "1e5b3758",
   "metadata": {},
   "outputs": [],
   "source": [
    "## Structure class - build incidence matrices and 1d arrays of edges\n",
    "\n",
    "Strctr = Network_Structure(input_nodes_arr, \\\n",
    "                           output_nodes_arr, \\\n",
    "                           inter_nodes_arr, \\\n",
    "                           ground_nodes_arr,)\n",
    "Strctr.build_incidence()\n",
    "Strctr.build_edges()\n",
    "BigClass.add_Strctr(Strctr)  # add to big class"
   ]
  },
  {
   "cell_type": "code",
   "execution_count": null,
   "id": "ab70cdb7",
   "metadata": {},
   "outputs": [],
   "source": [
    "## Initiate internal flow network state class\n",
    "\n",
    "if access_interNodes:\n",
    "    State = Network_State(Variabs.Nin, Variabs.Nout, Ninter)\n",
    "else:\n",
    "    State = Network_State(Variabs.Nin, Variabs.Nout)\n",
    "if task_type == 'Iris_classification':\n",
    "    State.initiate_resistances(BigClass, R_vec_i)\n",
    "else:\n",
    "    State.initiate_resistances(BigClass)\n",
    "BigClass.add_State(State)  # add to big class"
   ]
  },
  {
   "cell_type": "code",
   "execution_count": null,
   "id": "ce319736",
   "metadata": {},
   "outputs": [],
   "source": [
    "## build network graphics class and plot structure\n",
    "\n",
    "NET = Networkx_Net(scale, squish)\n",
    "NET.buildNetwork(BigClass)\n",
    "NET.build_pos_lattice(BigClass, plot=True, node_labels=False)\n",
    "BigClass.add_NET(NET)  # add to big class"
   ]
  },
  {
   "cell_type": "markdown",
   "id": "bc53c168",
   "metadata": {},
   "source": [
    "## Train"
   ]
  },
  {
   "cell_type": "code",
   "execution_count": null,
   "id": "e8487cfb",
   "metadata": {},
   "outputs": [],
   "source": [
    "for i in range(Variabs.iterations):\n",
    "    print('i', i)\n",
    "    # if task is classification and iteration # is beginning of epoch\n",
    "    # draw output of network as output of mean of Irises\n",
    "    if i % 15 == 0 and task_type == 'Iris_classification':\n",
    "        targets_mat = zeros([3, 3])\n",
    "        for j in range(3):\n",
    "            State.draw_p_means_Iris(Variabs, j)\n",
    "            # print('means[j]', State.input_drawn)\n",
    "            State.solve_flow_given_problem(BigClass, \"measure_for_mean\")  # measure and don't change resistances\n",
    "            # print('targets[j]', State.output)\n",
    "            targets_mat[j] = State.output\n",
    "        State.assign_targets_Iris(targets_mat)\n",
    "        print(targets_mat)\n",
    "    if use_p_tag:\n",
    "        k = (i//stay_sample)*2 + i%2\n",
    "    else:\n",
    "        k = (i//stay_sample)\n",
    "    print('k', k)\n",
    "    State.draw_p_in_and_desired(Variabs, k)\n",
    "    #print('p_drawn ', State.input_drawn)\n",
    "    # print('desired output', State.desired)\n",
    "    State.solve_flow_given_problem(BigClass, \"measure\")  # measure and don't change resistances\n",
    "    # print('output meausred', State.output)\n",
    "    if not i % 2 and use_p_tag:  # even iterations, take another sampled pressure and measure again\n",
    "    # if not i % 2:  # even iterations, take another sampled pressure and measure again\n",
    "        pass\n",
    "    else:  # odd iterations, go to dual problem and update resistances\n",
    "        State.calc_loss(BigClass)\n",
    "        State.update_input_dual(BigClass)\n",
    "        State.update_output_dual(BigClass)\n",
    "        if access_interNodes:\n",
    "            State.update_inter_dual(BigClass)\n",
    "        State.solve_flow_given_problem(BigClass, \"dual\")  # measure and don't change resistances\n",
    "        State.update_Rs(BigClass)"
   ]
  },
  {
   "cell_type": "markdown",
   "id": "4623c3d3",
   "metadata": {},
   "source": [
    "## Plots"
   ]
  },
  {
   "cell_type": "code",
   "execution_count": null,
   "id": "edda6f84",
   "metadata": {},
   "outputs": [],
   "source": [
    "if hasattr(Variabs, 'M'):\n",
    "    plot_functions.plot_importants(State, Variabs, State.desired_in_t, Variabs.M)\n",
    "else:\n",
    "        plot_functions.plot_importants(State, Variabs, State.desired_in_t)"
   ]
  },
  {
   "cell_type": "markdown",
   "id": "dff4f364",
   "metadata": {},
   "source": [
    "## Statistics"
   ]
  },
  {
   "cell_type": "markdown",
   "id": "9030df2b",
   "metadata": {},
   "source": [
    "### Error"
   ]
  },
  {
   "cell_type": "code",
   "execution_count": null,
   "id": "d583a34f",
   "metadata": {},
   "outputs": [],
   "source": [
    "final_err = statistics.final_err(BigClass, 40)\n",
    "print('final_err', final_err)"
   ]
  },
  {
   "cell_type": "markdown",
   "id": "defc506b",
   "metadata": {},
   "source": [
    "### Accuracy"
   ]
  },
  {
   "cell_type": "code",
   "execution_count": null,
   "id": "781d4eff",
   "metadata": {},
   "outputs": [],
   "source": [
    "accuracy = zeros(np.shape(Variabs.dataset)[0])\n",
    "for i, datapoint in enumerate(Variabs.dataset):\n",
    "    State.draw_p_in_and_desired(Variabs, i)\n",
    "    State.solve_flow_given_problem(BigClass, \"measure\")  # measure and don't change resistances\n",
    "    accuracy[i] = statistics.calculate_accuracy(State.output, State.target_mat, Variabs.targets[i])"
   ]
  },
  {
   "cell_type": "code",
   "execution_count": null,
   "id": "ed3b0b73",
   "metadata": {},
   "outputs": [],
   "source": [
    "Variabs.targets"
   ]
  },
  {
   "cell_type": "code",
   "execution_count": null,
   "id": "564ebcc2",
   "metadata": {},
   "outputs": [],
   "source": [
    "np.mean(accuracy)"
   ]
  },
  {
   "cell_type": "markdown",
   "id": "01370ac5",
   "metadata": {},
   "source": [
    "## Checks"
   ]
  },
  {
   "cell_type": "code",
   "execution_count": null,
   "id": "e217b356",
   "metadata": {},
   "outputs": [],
   "source": [
    "from sklearn.datasets import load_iris\n",
    "from sklearn.preprocessing import OneHotEncoder, MinMaxScaler\n",
    "from sklearn.utils import shuffle\n",
    "from numpy.linalg import norm"
   ]
  },
  {
   "cell_type": "code",
   "execution_count": null,
   "id": "7f5f97f0",
   "metadata": {},
   "outputs": [],
   "source": [
    "# Load the Iris dataset\n",
    "iris = load_iris()\n",
    "dataset, numerical_targets = shuffle(iris['data'], iris['target'], random_state=42)\n",
    "# Min-Max Scale dataset to [0, 4]\n",
    "min_max_scaler = MinMaxScaler(feature_range=(0, 4))\n",
    "dataset = min_max_scaler.fit_transform(dataset)\n",
    "# One-hot encode the label\n",
    "encoder = OneHotEncoder(sparse_output=False, categories='auto')\n",
    "targets_reshaped = numerical_targets.reshape(-1, 1)  # Reshape for the encoder\n",
    "targets = encoder.fit_transform(targets_reshaped)"
   ]
  },
  {
   "cell_type": "code",
   "execution_count": null,
   "id": "363fb53e",
   "metadata": {},
   "outputs": [],
   "source": [
    "import matplotlib.pyplot as plt"
   ]
  },
  {
   "cell_type": "code",
   "execution_count": null,
   "id": "3369dd96",
   "metadata": {},
   "outputs": [],
   "source": [
    "plt.plot(np.mean(np.mean(np.abs(State.loss_in_t[1::stay_sample]), axis=1), axis=1))"
   ]
  },
  {
   "cell_type": "code",
   "execution_count": null,
   "id": "9605cec2",
   "metadata": {},
   "outputs": [],
   "source": [
    "State.R_in_t"
   ]
  }
 ],
 "metadata": {
  "kernelspec": {
   "display_name": "Python 3 (ipykernel)",
   "language": "python",
   "name": "python3"
  },
  "language_info": {
   "codemirror_mode": {
    "name": "ipython",
    "version": 3
   },
   "file_extension": ".py",
   "mimetype": "text/x-python",
   "name": "python",
   "nbconvert_exporter": "python",
   "pygments_lexer": "ipython3",
   "version": "3.8.18"
  }
 },
 "nbformat": 4,
 "nbformat_minor": 5
}
