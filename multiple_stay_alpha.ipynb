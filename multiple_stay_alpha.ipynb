{
 "cells": [
  {
   "cell_type": "code",
   "execution_count": 3,
   "id": "6e52afca",
   "metadata": {},
   "outputs": [],
   "source": [
    "from __future__ import annotations\n",
    "import numpy as np\n",
    "import random\n",
    "import copy\n",
    "import importlib\n",
    "\n",
    "from typing import Tuple, List\n",
    "from numpy import array, zeros\n",
    "from matplotlib import pyplot as plt\n",
    "\n",
    "# from Big_Class import Big_Class  # already imported one NETfuncs is imported\n",
    "from User_Variables import User_Variables  # already imported one NETfuncs is imported\n",
    "from Network_Structure import Network_Structure  # already imported one NETfuncs is imported\n",
    "from Big_Class import Big_Class\n",
    "from Network_State import Network_State\n",
    "from Networkx_Net import Networkx_Net\n",
    "import matrix_functions, functions, statistics, plot_functions, solve, figure_plots, colors"
   ]
  },
  {
   "cell_type": "markdown",
   "id": "522310fb",
   "metadata": {},
   "source": [
    "## colors"
   ]
  },
  {
   "cell_type": "code",
   "execution_count": 4,
   "id": "df8056b5",
   "metadata": {},
   "outputs": [
    {
     "data": {
      "image/png": "[encoded data removed]",
      "text/html": [
       "<div style=\"vertical-align: middle;\"><strong>custom_cmap</strong> </div><div class=\"cmap\"><img alt=\"custom_cmap colormap\" title=\"custom_cmap\" style=\"border: 1px solid #555;\" src=\"data:image/png;base64,iVBORw0KGgoAAAANSUhEUgAAAgAAAABACAYAAABsv8+/AAAAGnRFWHRUaXRsZQBjdXN0b21fY21hcCBjb2xvcm1hcOa9R1QAAAAgdEVYdERlc2NyaXB0aW9uAGN1c3RvbV9jbWFwIGNvbG9ybWFwd6MDAgAAADB0RVh0QXV0aG9yAE1hdHBsb3RsaWIgdjMuOS4yLCBodHRwczovL21hdHBsb3RsaWIub3JnYZnFUwAAADJ0RVh0U29mdHdhcmUATWF0cGxvdGxpYiB2My45LjIsIGh0dHBzOi8vbWF0cGxvdGxpYi5vcmdPP1p0AAABj0lEQVR4nO3WW0rDUBRA0VPH6LAdhCNp/VGEW0ofxBjYa/2kvSH3EVrYp/ePz8vMzJxnZmZOl+X6z+NzsP2s4zff21H3dZDxeXWe+Pvb+v/wM9/y9fd66/73h/M6fu+5B+e999zT6260n6t1//icT6/76n6W+5ud88n97n3Odfy80zmvzrvT72i9vg0AkCMAACBIAABAkAAAgCABAABBAgAAggQAAAQJAAAIEgAAECQAACBIAABAkAAAgCABAABBAgAAggQAAAQJAAAIEgAAECQAACBIAABAkAAAgCABAABBAgAAggQAAAQJAAAIEgAAECQAACBIAABAkAAAgCABAABBAgAAggQAAAQJAAAIEgAAECQAACBIAABAkAAAgCABAABBAgAAggQAAAQJAAAIEgAAECQAACBIAABAkAAAgCABAABBAgAAggQAAAQJAAAIEgAAECQAACBIAABAkAAAgCABAABBAgAAggQAAAQJAAAIEgAAECQAACBIAABAkAAAgCABAABBAgAAggQAAAR9AYUII7ONq3z/AAAAAElFTkSuQmCC\"></div><div style=\"vertical-align: middle; max-width: 514px; display: flex; justify-content: space-between;\"><div style=\"float: left;\"><div title=\"#54cce0ff\" style=\"display: inline-block; width: 1em; height: 1em; margin: 0; vertical-align: middle; border: 1px solid #555; background-color: #54cce0ff;\"></div> under</div><div style=\"margin: 0 auto; display: inline-block;\">bad <div title=\"#00000000\" style=\"display: inline-block; width: 1em; height: 1em; margin: 0; vertical-align: middle; border: 1px solid #555; background-color: #00000000;\"></div></div><div style=\"float: right;\">over <div title=\"#4500e0ff\" style=\"display: inline-block; width: 1em; height: 1em; margin: 0; vertical-align: middle; border: 1px solid #555; background-color: #4500e0ff;\"></div></div></div>"
      ],
      "text/plain": [
       "<matplotlib.colors.LinearSegmentedColormap at 0x179ce541880>"
      ]
     },
     "execution_count": 4,
     "metadata": {},
     "output_type": "execute_result"
    }
   ],
   "source": [
    "colors_lst, red, cmap = colors.color_scheme()\n",
    "cmap"
   ]
  },
  {
   "cell_type": "markdown",
   "id": "81abe5e2",
   "metadata": {},
   "source": [
    "# Parameters"
   ]
  },
  {
   "cell_type": "code",
   "execution_count": 5,
   "id": "b3b53745",
   "metadata": {},
   "outputs": [],
   "source": [
    "## Parameters\n",
    "\n",
    "## task type\n",
    "task_type='Iris_classification'\n",
    "\n",
    "# ## task matrix X\n",
    "M_values: np.ndarray = array([0])\n",
    "\n",
    "## specify # of nodes\n",
    "Nin: int = 4\n",
    "extraNin: int = 0\n",
    "Ninter: int = 0\n",
    "Nout: int = 3\n",
    "extraNout: int = 0\n",
    "\n",
    "# resistance-pressure proportionality factor\n",
    "gamma: np.ndarray = np.array([1.0])\n",
    "\n",
    "## method to update resistances - physical property of the system\n",
    "R_update: str = 'R_propto_dp'\n",
    "# R_update: str = 'deltaR_propto_dp'\n",
    "# R_update: str = 'deltaR_propto_Q'\n",
    "# R_update: str = 'deltaR_propto_Power'\n",
    "# R_vec_i = 2*array([1.9, 1., 0.85, 1.05, 0.9, 1., 0.85, 1.05, 0.9, 3., 0.85, 1.05, 0.9, 1., 0.85, 1.05, 1., 2.95, 0.55])\n",
    "# R_vec_i = array([20, 1, 0.5, 10, 2, 1, 0.5, 10, 2, 10, 0.5, 1, 2, 1, 0.5, 1, 2, 1, 0.5])\n",
    "R_vec_i = np.ones(Nin*Nout+Nin+Nout)\n",
    "\n",
    "alpha: float = 0.05  # for network combine attempt\n",
    "stay_sample: int = 2\n",
    "\n",
    "# length of training dataset\n",
    "iterations = 1200  # number of sampled of p\n",
    "\n",
    "# measure accuracy every # steps\n",
    "measure_accuracy_every = 5\n",
    "\n",
    "supress_prints: bool = True  # whether to print information during training or not\n",
    "bc_noise: float = 0.0  # noise to dual problem\n",
    "use_p_tag: bool = True  # use 1 or 2 sampled pressures at every time step\n",
    "include_Power: bool = False\n",
    "lam: float = 0\n",
    "    \n",
    "random_state: int = 39  # random seed for train test shuffle\n",
    "train_size: int = 30  # size of trainset, Sam and Nachi used 30, if all 150 are wanted then leave as None\n",
    "    \n",
    "access_interNodes: bool = False  # access and change pressure at interNodes (nodes between input and output) or not\n",
    "noise_to_extra: bool = False  # add noise to extra outputs "
   ]
  },
  {
   "cell_type": "code",
   "execution_count": 6,
   "id": "90c78853",
   "metadata": {},
   "outputs": [],
   "source": [
    "def network_build_given_stay_alpha(alpha: float) -> tuple():\n",
    "    \n",
    "    # initialize Variables\n",
    "    Variabs = User_Variables(iterations,\\\n",
    "                             Nin, \\\n",
    "                             extraNin, \\\n",
    "                             Ninter, \\\n",
    "                             Nout, \\\n",
    "                             extraNout, \\\n",
    "                             gamma, \\\n",
    "                             R_update, \\\n",
    "                             use_p_tag, \\\n",
    "                             include_Power, lam, \\\n",
    "                             supress_prints, \\\n",
    "                             bc_noise, \\\n",
    "                             access_interNodes, \\\n",
    "                             task_type, \\\n",
    "                             measure_accuracy_every)\n",
    "    \n",
    "    Variabs.assign_alpha_vec(alpha)\n",
    "    Variabs.create_dataset_and_targets(random_state=random_state, train_size=train_size)\n",
    "    Variabs.create_noise_for_extras()\n",
    "    BigClass = Big_Class(Variabs)\n",
    "        \n",
    "    # initialize Structure\n",
    "    inInterOutGround_tuple = matrix_functions.build_input_output_and_ground(Variabs.Nin, Variabs.extraNin, Variabs.Ninter, \n",
    "                                                                            Variabs.Nout, Variabs.extraNout)\n",
    "        \n",
    "    \n",
    "    Strctr = Network_Structure(inInterOutGround_tuple)\n",
    "    Strctr.build_incidence()\n",
    "    Strctr.build_edges()\n",
    "    BigClass.add_Strctr(Strctr)  # add to big class\n",
    "    \n",
    "    # initialize State    \n",
    "    State = Network_State(Variabs)\n",
    "    State.initiate_resistances(BigClass, R_vec_i)\n",
    "    State.initiate_accuracy_vec(BigClass, measure_accuracy_every)\n",
    "    BigClass.add_State(State)  # add to big class\n",
    "    \n",
    "    return Variabs, Strctr, State, BigClass\n",
    "\n",
    "\n",
    "def train_loop(Variabs, Strctr, State, BigClass, stay_sample): \n",
    "    State.accuracy = 1/3 \n",
    "    for l in range(Variabs.iterations):\n",
    "        if l % np.shape(Variabs.X_train)[0] == 0 and Variabs.task_type == 'Iris_classification':\n",
    "            State.assign_targets_Iris(BigClass)\n",
    "        \n",
    "        k = (l//stay_sample)*2 + l%2\n",
    "\n",
    "        # draw input and desired outputs from dataset\n",
    "        if not((l+1) % 4):  # add noise only at i=3 etc.\n",
    "            State.draw_p_in_and_desired(Variabs, k, noise_to_extra=False)  # add noise to extra nodes every 2nd iteration\n",
    "            State.solve_flow_given_problem(BigClass, \"measure\", noise_to_extra=False)  # measure and don't change resistances\n",
    "        else:  # dont add noise to extra nodes\n",
    "            State.draw_p_in_and_desired(Variabs, k)\n",
    "            State.solve_flow_given_problem(BigClass, \"measure\")\n",
    "\n",
    "        if not l % 2:  # even iterations, take another sampled pressure and measure again\n",
    "            pass\n",
    "        else:  # odd iterations, go to dual problem and update resistances\n",
    "            State.t += 1\n",
    "            # print('time=', State.t)\n",
    "            State.calc_loss(BigClass)\n",
    "            loss_mean = np.mean(np.abs(State.loss), axis=1)\n",
    "            if State.accuracy>0.92:\n",
    "                State.loss_in_t[-1] = array([[0, 0, 0],[0, 0, 0]])\n",
    "            State.update_input_dual(BigClass)\n",
    "            State.update_output_dual(BigClass)\n",
    "            State.solve_flow_given_problem(BigClass, \"dual\", access_inters=False)  # measure and don't change resistances\n",
    "            State.update_Rs(BigClass)\n",
    "            \n",
    "        # measure accuracy\n",
    "        if l % Variabs.measure_accuracy_every == 0 \\\n",
    "           and l//Variabs.measure_accuracy_every<len(State.accuracy_in_t):\n",
    "            if l==0:\n",
    "                State.accuracy_in_t[l] = State.accuracy\n",
    "                State.t_for_accuracy[l//Variabs.measure_accuracy_every] = State.t \n",
    "            else:\n",
    "                State.calculate_accuracy_testset(BigClass)\n",
    "                State.accuracy_in_t[l//Variabs.measure_accuracy_every] = State.accuracy \n",
    "                State.t_for_accuracy[l//Variabs.measure_accuracy_every] = State.t \n",
    "    return State"
   ]
  },
  {
   "cell_type": "markdown",
   "id": "fd98ac1c",
   "metadata": {},
   "source": [
    "# Loop stay"
   ]
  },
  {
   "cell_type": "code",
   "execution_count": 7,
   "id": "db2582e5",
   "metadata": {
    "scrolled": false
   },
   "outputs": [
    {
     "name": "stdout",
     "output_type": "stream",
     "text": [
      "R_update R_propto_dp\n",
      "stay 2\n",
      "alpha 0.1\n"
     ]
    },
    {
     "ename": "TypeError",
     "evalue": "__init__() got an unexpected keyword argument 'sparse_output'",
     "output_type": "error",
     "traceback": [
      "\u001b[1;31m---------------------------------------------------------------------------\u001b[0m",
      "\u001b[1;31mTypeError\u001b[0m                                 Traceback (most recent call last)",
      "\u001b[1;32m~\\AppData\\Local\\Temp\\ipykernel_25036\\1407851804.py\u001b[0m in \u001b[0;36m<module>\u001b[1;34m\u001b[0m\n\u001b[0;32m     10\u001b[0m         \u001b[0mprint\u001b[0m\u001b[1;33m(\u001b[0m\u001b[1;34m'stay'\u001b[0m\u001b[1;33m,\u001b[0m \u001b[0mstay_sample\u001b[0m\u001b[1;33m)\u001b[0m\u001b[1;33m\u001b[0m\u001b[1;33m\u001b[0m\u001b[0m\n\u001b[0;32m     11\u001b[0m         \u001b[0mprint\u001b[0m\u001b[1;33m(\u001b[0m\u001b[1;34m'alpha'\u001b[0m\u001b[1;33m,\u001b[0m \u001b[0malpha_vec\u001b[0m\u001b[1;33m[\u001b[0m\u001b[1;36m0\u001b[0m\u001b[1;33m]\u001b[0m\u001b[1;33m)\u001b[0m\u001b[1;33m\u001b[0m\u001b[1;33m\u001b[0m\u001b[0m\n\u001b[1;32m---> 12\u001b[1;33m         \u001b[0mVariabs\u001b[0m\u001b[1;33m,\u001b[0m \u001b[0mStrctr\u001b[0m\u001b[1;33m,\u001b[0m \u001b[0mState\u001b[0m\u001b[1;33m,\u001b[0m \u001b[0mBigClass\u001b[0m \u001b[1;33m=\u001b[0m \u001b[0mnetwork_build_given_stay_alpha\u001b[0m\u001b[1;33m(\u001b[0m\u001b[0malpha\u001b[0m\u001b[1;33m)\u001b[0m\u001b[1;33m\u001b[0m\u001b[1;33m\u001b[0m\u001b[0m\n\u001b[0m\u001b[0;32m     13\u001b[0m         \u001b[0mprint\u001b[0m\u001b[1;33m(\u001b[0m\u001b[1;34m'starting train loop'\u001b[0m\u001b[1;33m)\u001b[0m\u001b[1;33m\u001b[0m\u001b[1;33m\u001b[0m\u001b[0m\n\u001b[0;32m     14\u001b[0m         \u001b[0mState\u001b[0m \u001b[1;33m=\u001b[0m \u001b[0mtrain_loop\u001b[0m\u001b[1;33m(\u001b[0m\u001b[0mVariabs\u001b[0m\u001b[1;33m,\u001b[0m \u001b[0mStrctr\u001b[0m\u001b[1;33m,\u001b[0m \u001b[0mState\u001b[0m\u001b[1;33m,\u001b[0m \u001b[0mBigClass\u001b[0m\u001b[1;33m,\u001b[0m \u001b[0mstay_sample\u001b[0m\u001b[1;33m)\u001b[0m\u001b[1;33m\u001b[0m\u001b[1;33m\u001b[0m\u001b[0m\n",
      "\u001b[1;32m~\\AppData\\Local\\Temp\\ipykernel_25036\\1116206692.py\u001b[0m in \u001b[0;36mnetwork_build_given_stay_alpha\u001b[1;34m(alpha)\u001b[0m\n\u001b[0;32m     19\u001b[0m \u001b[1;33m\u001b[0m\u001b[0m\n\u001b[0;32m     20\u001b[0m     \u001b[0mVariabs\u001b[0m\u001b[1;33m.\u001b[0m\u001b[0massign_alpha_vec\u001b[0m\u001b[1;33m(\u001b[0m\u001b[0malpha\u001b[0m\u001b[1;33m)\u001b[0m\u001b[1;33m\u001b[0m\u001b[1;33m\u001b[0m\u001b[0m\n\u001b[1;32m---> 21\u001b[1;33m     \u001b[0mVariabs\u001b[0m\u001b[1;33m.\u001b[0m\u001b[0mcreate_dataset_and_targets\u001b[0m\u001b[1;33m(\u001b[0m\u001b[0mrandom_state\u001b[0m\u001b[1;33m=\u001b[0m\u001b[0mrandom_state\u001b[0m\u001b[1;33m,\u001b[0m \u001b[0mtrain_size\u001b[0m\u001b[1;33m=\u001b[0m\u001b[0mtrain_size\u001b[0m\u001b[1;33m)\u001b[0m\u001b[1;33m\u001b[0m\u001b[1;33m\u001b[0m\u001b[0m\n\u001b[0m\u001b[0;32m     22\u001b[0m     \u001b[0mVariabs\u001b[0m\u001b[1;33m.\u001b[0m\u001b[0mcreate_noise_for_extras\u001b[0m\u001b[1;33m(\u001b[0m\u001b[1;33m)\u001b[0m\u001b[1;33m\u001b[0m\u001b[1;33m\u001b[0m\u001b[0m\n\u001b[0;32m     23\u001b[0m     \u001b[0mBigClass\u001b[0m \u001b[1;33m=\u001b[0m \u001b[0mBig_Class\u001b[0m\u001b[1;33m(\u001b[0m\u001b[0mVariabs\u001b[0m\u001b[1;33m)\u001b[0m\u001b[1;33m\u001b[0m\u001b[1;33m\u001b[0m\u001b[0m\n",
      "\u001b[1;32m~\\OneDrive - huji.ac.il\\PhD\\Network Simulation repo\\Network combine\\Network_combine\\User_Variables.py\u001b[0m in \u001b[0;36mcreate_dataset_and_targets\u001b[1;34m(self, random_state, M_values, train_size)\u001b[0m\n\u001b[0;32m    101\u001b[0m \u001b[1;33m\u001b[0m\u001b[0m\n\u001b[0;32m    102\u001b[0m             \u001b[1;31m# One-hot encode the labels\u001b[0m\u001b[1;33m\u001b[0m\u001b[1;33m\u001b[0m\u001b[0m\n\u001b[1;32m--> 103\u001b[1;33m             \u001b[0mencoder\u001b[0m \u001b[1;33m=\u001b[0m \u001b[0mOneHotEncoder\u001b[0m\u001b[1;33m(\u001b[0m\u001b[0msparse_output\u001b[0m\u001b[1;33m=\u001b[0m\u001b[1;32mFalse\u001b[0m\u001b[1;33m,\u001b[0m \u001b[0mcategories\u001b[0m\u001b[1;33m=\u001b[0m\u001b[1;34m'auto'\u001b[0m\u001b[1;33m)\u001b[0m\u001b[1;33m\u001b[0m\u001b[1;33m\u001b[0m\u001b[0m\n\u001b[0m\u001b[0;32m    104\u001b[0m             \u001b[0mtargets_reshaped\u001b[0m \u001b[1;33m=\u001b[0m \u001b[0miris\u001b[0m\u001b[1;33m[\u001b[0m\u001b[1;34m'target'\u001b[0m\u001b[1;33m]\u001b[0m\u001b[1;33m.\u001b[0m\u001b[0mreshape\u001b[0m\u001b[1;33m(\u001b[0m\u001b[1;33m-\u001b[0m\u001b[1;36m1\u001b[0m\u001b[1;33m,\u001b[0m \u001b[1;36m1\u001b[0m\u001b[1;33m)\u001b[0m  \u001b[1;31m# Reshape for the encoder\u001b[0m\u001b[1;33m\u001b[0m\u001b[1;33m\u001b[0m\u001b[0m\n\u001b[0;32m    105\u001b[0m             \u001b[0mself\u001b[0m\u001b[1;33m.\u001b[0m\u001b[0mtargets\u001b[0m \u001b[1;33m=\u001b[0m \u001b[0mencoder\u001b[0m\u001b[1;33m.\u001b[0m\u001b[0mfit_transform\u001b[0m\u001b[1;33m(\u001b[0m\u001b[0mtargets_reshaped\u001b[0m\u001b[1;33m)\u001b[0m\u001b[1;33m\u001b[0m\u001b[1;33m\u001b[0m\u001b[0m\n",
      "\u001b[1;31mTypeError\u001b[0m: __init__() got an unexpected keyword argument 'sparse_output'"
     ]
    }
   ],
   "source": [
    "alpha_vec = array([0.1])\n",
    "random_state_vec = array([37, 38, 40, 41, 42, 43, 44, 45])\n",
    "method_vec = array(['R_propto_dp', 'deltaR_propto_dp', 'deltaR_propto_Q', 'deltaR_propto_Power'])\n",
    "accuracy_size = int(np.floor(iterations/measure_accuracy_every))\n",
    "accuracy_in_t_mat = np.zeros([np.shape(random_state_vec)[0], accuracy_size])\n",
    "\n",
    "for i, R_update in enumerate(method_vec):\n",
    "    print('R_update', R_update)\n",
    "    for j, random_state in enumerate(random_state_vec):\n",
    "        print('stay', stay_sample)\n",
    "        print('alpha', alpha_vec[0])\n",
    "        Variabs, Strctr, State, BigClass = network_build_given_stay_alpha(alpha)\n",
    "        print('starting train loop')\n",
    "        State = train_loop(Variabs, Strctr, State, BigClass, stay_sample)\n",
    "        \n",
    "        plot_functions.plot_importants(State, Variabs, State.desired_in_t, include_network=True)\n",
    "        plot_functions.plot_accuracy(State.t, State.t_for_accuracy, State.accuracy_in_t, np.shape(Variabs.dataset)[0])\n",
    "        plt.show()\n",
    "        \n",
    "        accuracy_in_t_mat[j] = State.accuracy_in_t\n",
    "        \n",
    "    # save_folder_prelim = 'C:/Users/SMR_Admin/OneDrive - huji.ac.il/PhD/Network Simulation repo/Network combine/Network_combine/'\n",
    "    save_folder_prelim = 'C:/Users/roiee/OneDrive - huji.ac.il/PhD/Network Simulation repo/Network combine/Network_combine/'\n",
    "\n",
    "    np.save(save_folder_prelim + str(R_update) + 't.npy', State.t)\n",
    "    np.save(save_folder_prelim + str(R_update) + 't_for_accuracy.npy', State.t_for_accuracy)\n",
    "    np.save(save_folder_prelim + str(R_update) + 'accuracy_in_t', accuracy_in_t_mat)\n",
    "    np.save(save_folder_prelim + str(R_update) + 'dataset_shape', np.shape(Variabs.X_train))"
   ]
  },
  {
   "cell_type": "code",
   "execution_count": 9,
   "id": "dda4d57e",
   "metadata": {},
   "outputs": [],
   "source": [
    "save_folder_prelim = 'C:/Users/roiee/OneDrive - huji.ac.il/PhD/Network Simulation repo/Network combine/Network_combine/'\n",
    "np.save(save_folder_prelim + str(R_update) + 'dataset_shape', np.array([30, 4]))"
   ]
  },
  {
   "cell_type": "code",
   "execution_count": null,
   "id": "48f7de52",
   "metadata": {},
   "outputs": [],
   "source": [
    "State.accuracy_in_t"
   ]
  },
  {
   "cell_type": "code",
   "execution_count": null,
   "id": "36d6f5cb",
   "metadata": {
    "scrolled": true
   },
   "outputs": [],
   "source": [
    "np.save(save_folder_prelim + 'accuracy_in_t', State.accuracy_in_t)"
   ]
  },
  {
   "cell_type": "code",
   "execution_count": null,
   "id": "f6921ecd",
   "metadata": {},
   "outputs": [],
   "source": [
    "State.targets_mat"
   ]
  },
  {
   "cell_type": "code",
   "execution_count": null,
   "id": "866e0267",
   "metadata": {},
   "outputs": [],
   "source": [
    "np.shape(accuracy_in_t_mat)"
   ]
  },
  {
   "cell_type": "code",
   "execution_count": null,
   "id": "7d0a3f42",
   "metadata": {},
   "outputs": [],
   "source": [
    "# save_folder_prelim = 'C:/Users/SMR_Admin/OneDrive - huji.ac.il/PhD/Network Simulation repo/Network combine/Network_combine/'\n",
    "\n",
    "# np.save(save_folder_prelim + 't.npy', State.t)\n",
    "# np.save(save_folder_prelim + 't_for_accuracy.npy', State.t_for_accuracy)\n",
    "# np.save(save_folder_prelim + 'accuracy_in_t', State.accuracy_in_t)\n",
    "# np.save(save_folder_prelim + 'dataset_shape', np.shape(Variabs.X_train))"
   ]
  },
  {
   "cell_type": "code",
   "execution_count": null,
   "id": "95f661c4",
   "metadata": {},
   "outputs": [],
   "source": []
  }
 ],
 "metadata": {
  "kernelspec": {
   "display_name": "Python 3 (ipykernel)",
   "language": "python",
   "name": "python3"
  },
  "language_info": {
   "codemirror_mode": {
    "name": "ipython",
    "version": 3
   },
   "file_extension": ".py",
   "mimetype": "text/x-python",
   "name": "python",
   "nbconvert_exporter": "python",
   "pygments_lexer": "ipython3",
   "version": "3.9.13"
  }
 },
 "nbformat": 4,
 "nbformat_minor": 5
}
