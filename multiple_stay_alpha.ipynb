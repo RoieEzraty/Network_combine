{
 "cells": [
  {
   "cell_type": "code",
   "execution_count": null,
   "id": "6e52afca",
   "metadata": {},
   "outputs": [],
   "source": [
    "from __future__ import annotations\n",
    "import numpy as np\n",
    "import random\n",
    "import copy\n",
    "import importlib\n",
    "\n",
    "from typing import Tuple, List\n",
    "from numpy import array, zeros\n",
    "from matplotlib import pyplot as plt\n",
    "\n",
    "# from Big_Class import Big_Class  # already imported one NETfuncs is imported\n",
    "from User_Variables import User_Variables  # already imported one NETfuncs is imported\n",
    "from Network_Structure import Network_Structure  # already imported one NETfuncs is imported\n",
    "from Big_Class import Big_Class\n",
    "from Network_State import Network_State\n",
    "from Networkx_Net import Networkx_Net\n",
    "import matrix_functions, functions, statistics, plot_functions, solve, figure_plots"
   ]
  },
  {
   "cell_type": "markdown",
   "id": "81abe5e2",
   "metadata": {},
   "source": [
    "# Parameters"
   ]
  },
  {
   "cell_type": "code",
   "execution_count": null,
   "id": "b3b53745",
   "metadata": {},
   "outputs": [],
   "source": [
    "## Parameters\n",
    "\n",
    "## task type\n",
    "task_type='Iris_classification'\n",
    "\n",
    "\n",
    "# ## task matrix X\n",
    "M_values: np.ndarray = array([0])\n",
    "\n",
    "## specify # of nodes\n",
    "Nin: int = 4\n",
    "extraNin: int = 0\n",
    "Ninter: int = 0\n",
    "Nout: int = 3\n",
    "extraNout: int = 0\n",
    "\n",
    "# resistance-pressure proportionality factor\n",
    "gamma: np.ndarray = np.array([1.0])\n",
    "\n",
    "## method to update resistances - physical property of the system\n",
    "R_update: str = 'R_propto_dp'\n",
    "# R_update: str = 'deltaR_propto_dp'\n",
    "# R_update: str = 'deltaR_propto_Q'\n",
    "# R_update: str = 'deltaR_propto_Power'\n",
    "# R_vec_i = 2*array([1.9, 1., 0.85, 1.05, 0.9, 1., 0.85, 1.05, 0.9, 3., 0.85, 1.05, 0.9, 1., 0.85, 1.05, 1., 2.95, 0.55])\n",
    "# R_vec_i = array([20, 1, 0.5, 10, 2, 1, 0.5, 10, 2, 10, 0.5, 1, 2, 1, 0.5, 1, 2, 1, 0.5])\n",
    "R_vec_i = np.ones(Nin*Nout+Nin+Nout)\n",
    "\n",
    "alpha: float = 0.05  # for network combine attempt\n",
    "stay_sample: int = 2\n",
    "\n",
    "# length of training dataset\n",
    "iterations = 1750  # number of sampled of p\n",
    "\n",
    "# measure accuracy every # steps\n",
    "measure_accuracy_every = 5\n",
    "\n",
    "supress_prints: bool = True  # whether to print information during training or not\n",
    "bc_noise: float = 0.0  # noise to dual problem\n",
    "use_p_tag: bool = True  # use 1 or 2 sampled pressures at every time step\n",
    "include_Power: bool = False\n",
    "lam: float = 0\n",
    "    \n",
    "random_state: int = 39  # random seed for train test shuffle\n",
    "train_size: int = 30  # size of trainset, Sam and Nachi used 30, if all 150 are wanted then leave as None\n",
    "    \n",
    "access_interNodes: bool = False  # access and change pressure at interNodes (nodes between input and output) or not\n",
    "noise_to_extra: bool = False  # add noise to extra outputs "
   ]
  },
  {
   "cell_type": "code",
   "execution_count": null,
   "id": "90c78853",
   "metadata": {},
   "outputs": [],
   "source": [
    "def network_build_given_stay_alpha(alpha: float) -> tuple():\n",
    "    \n",
    "    # initialize Variables\n",
    "    Variabs = User_Variables(iterations,\\\n",
    "                             Nin, \\\n",
    "                             extraNin, \\\n",
    "                             Ninter, \\\n",
    "                             Nout, \\\n",
    "                             extraNout, \\\n",
    "                             gamma, \\\n",
    "                             R_update, \\\n",
    "                             use_p_tag, \\\n",
    "                             include_Power, lam, \\\n",
    "                             supress_prints, \\\n",
    "                             bc_noise, \\\n",
    "                             access_interNodes, \\\n",
    "                             task_type, \\\n",
    "                             measure_accuracy_every)\n",
    "    \n",
    "    Variabs.assign_alpha_vec(alpha)\n",
    "    Variabs.create_dataset_and_targets(random_state=random_state, train_size=train_size)\n",
    "    Variabs.create_noise_for_extras()\n",
    "    BigClass = Big_Class(Variabs)\n",
    "        \n",
    "    # initialize Structure\n",
    "    inInterOutGround_tuple = matrix_functions.build_input_output_and_ground(Variabs.Nin, Variabs.extraNin, Variabs.Ninter, \n",
    "                                                                            Variabs.Nout, Variabs.extraNout)\n",
    "        \n",
    "    \n",
    "    Strctr = Network_Structure(inInterOutGround_tuple)\n",
    "    Strctr.build_incidence()\n",
    "    Strctr.build_edges()\n",
    "    BigClass.add_Strctr(Strctr)  # add to big class\n",
    "    \n",
    "    # initialize State    \n",
    "    State = Network_State(Variabs)\n",
    "    State.initiate_resistances(BigClass, R_vec_i)\n",
    "    State.initiate_accuracy_vec(BigClass, measure_accuracy_every)\n",
    "    BigClass.add_State(State)  # add to big class\n",
    "    \n",
    "    return Variabs, Strctr, State, BigClass\n",
    "\n",
    "\n",
    "def train_loop(Variabs, Strctr, State, BigClass, stay_sample):   \n",
    "    State.accuracy=1/3\n",
    "    for l in range(Variabs.iterations):\n",
    "        if l % np.shape(Variabs.X_train)[0] == 0 and Variabs.task_type == 'Iris_classification':\n",
    "            State.assign_targets_Iris(BigClass)\n",
    "        \n",
    "        k = (l//stay_sample)*2 + l%2\n",
    "\n",
    "        # draw input and desired outputs from dataset\n",
    "        if not((l+1) % 4):  # add noise only at i=3 etc.\n",
    "            State.draw_p_in_and_desired(Variabs, k, noise_to_extra=False)  # add noise to extra nodes every 2nd iteration\n",
    "            State.solve_flow_given_problem(BigClass, \"measure\", noise_to_extra=False)  # measure and don't change resistances\n",
    "        else:  # dont add noise to extra nodes\n",
    "            State.draw_p_in_and_desired(Variabs, k)\n",
    "            State.solve_flow_given_problem(BigClass, \"measure\")\n",
    "\n",
    "        if not l % 2:  # even iterations, take another sampled pressure and measure again\n",
    "            pass\n",
    "        else:  # odd iterations, go to dual problem and update resistances\n",
    "            State.t += 1\n",
    "            # print('time=', State.t)\n",
    "            State.calc_loss(BigClass)\n",
    "            loss_mean = np.mean(np.abs(State.loss), axis=1)\n",
    "            if State.accuracy>0.92 and Variabs.task_type == 'Iris_classification':\n",
    "                State.loss_in_t[-1] = array([[0, 0, 0],[0, 0, 0]])\n",
    "            State.update_input_dual(BigClass)\n",
    "            State.update_output_dual(BigClass)\n",
    "            State.solve_flow_given_problem(BigClass, \"dual\", access_inters=False)  # measure and don't change resistances\n",
    "            State.update_Rs(BigClass)\n",
    "            \n",
    "        # measure accuracy\n",
    "        if l % Variabs.measure_accuracy_every == 0 and Variabs.task_type == 'Iris_classification' \\\n",
    "           and l//Variabs.measure_accuracy_every<len(State.accuracy_in_t) and l>0:\n",
    "            State.calculate_accuracy_testset(BigClass)\n",
    "            State.accuracy_in_t[l//Variabs.measure_accuracy_every] = State.accuracy \n",
    "            State.t_for_accuracy[l//Variabs.measure_accuracy_every] = State.t \n",
    "    return State"
   ]
  },
  {
   "cell_type": "markdown",
   "id": "fd98ac1c",
   "metadata": {},
   "source": [
    "# Loop stay"
   ]
  },
  {
   "cell_type": "code",
   "execution_count": null,
   "id": "db2582e5",
   "metadata": {
    "scrolled": false
   },
   "outputs": [],
   "source": [
    "alpha_vec = array([0.1])\n",
    "# random_state_vec = array([37, 38, 40])\n",
    "random_state_vec = array([40])\n",
    "method_vec = array(['R_propto_dp'])\n",
    "accuracy_size = int(np.floor(iterations/measure_accuracy_every))\n",
    "accuracy_in_t_mat = np.zeros([np.shape(random_state_vec)[0], accuracy_size])\n",
    "\n",
    "for i, R_update in enumerate(method_vec):\n",
    "    print('R_update', R_update)\n",
    "    for j, random_state in enumerate(random_state_vec):\n",
    "        print('stay', stay_sample)\n",
    "        print('alpha', alpha_vec[0])\n",
    "        Variabs, Strctr, State, BigClass = network_build_given_stay_alpha(alpha)\n",
    "        print('starting train loop')\n",
    "        State = train_loop(Variabs, Strctr, State, BigClass, stay_sample)\n",
    "        \n",
    "        plot_functions.plot_importants(State, Variabs, State.desired_in_t, include_network=True)\n",
    "        plot_functions.plot_accuracy(State.t, State.t_for_accuracy, State.accuracy_in_t, np.shape(Variabs.dataset)[0])\n",
    "        plt.show()\n",
    "        \n",
    "        accuracy_in_t_mat[j] = State.accuracy_in_t\n",
    "        \n",
    "    save_folder_prelim = 'C:/Users/SMR_Admin/OneDrive - huji.ac.il/PhD/Network Simulation repo/Network combine/Network_combine/'\n",
    "\n",
    "    np.save(save_folder_prelim + str(R_update) + 't.npy', State.t)\n",
    "    np.save(save_folder_prelim + str(R_update) + 't_for_accuracy.npy', State.t_for_accuracy)\n",
    "    np.save(save_folder_prelim + str(R_update) + 'accuracy_in_t', accuracy_in_t_mat)\n",
    "    np.save(save_folder_prelim + str(R_update) + 'dataset_shape', np.shape(Variabs.dataset))"
   ]
  },
  {
   "cell_type": "code",
   "execution_count": null,
   "id": "e658d36d",
   "metadata": {},
   "outputs": [],
   "source": [
    "accuracy_in_t_mat"
   ]
  },
  {
   "cell_type": "code",
   "execution_count": null,
   "id": "36d6f5cb",
   "metadata": {
    "scrolled": true
   },
   "outputs": [],
   "source": [
    "np.save(save_folder_prelim + 'accuracy_in_t', State.accuracy_in_t)"
   ]
  },
  {
   "cell_type": "code",
   "execution_count": null,
   "id": "dbbe6fc6",
   "metadata": {},
   "outputs": [],
   "source": [
    "State.targets_mat"
   ]
  },
  {
   "cell_type": "code",
   "execution_count": null,
   "id": "5397ab05",
   "metadata": {},
   "outputs": [],
   "source": [
    "BigClass.Variabs.y_test"
   ]
  },
  {
   "cell_type": "code",
   "execution_count": null,
   "id": "7d0a3f42",
   "metadata": {},
   "outputs": [],
   "source": [
    "# save_folder_prelim = 'C:/Users/SMR_Admin/OneDrive - huji.ac.il/PhD/Network Simulation repo/Network combine/Network_combine/'\n",
    "\n",
    "# np.save(save_folder_prelim + 't.npy', State.t)\n",
    "# np.save(save_folder_prelim + 't_for_accuracy.npy', State.t_for_accuracy)\n",
    "# np.save(save_folder_prelim + 'accuracy_in_t', State.accuracy_in_t)\n",
    "# np.save(save_folder_prelim + 'dataset_shape', np.shape(Variabs.dataset))"
   ]
  },
  {
   "cell_type": "code",
   "execution_count": null,
   "id": "7fccf366",
   "metadata": {},
   "outputs": [],
   "source": []
  }
 ],
 "metadata": {
  "kernelspec": {
   "display_name": "Python 3 (ipykernel)",
   "language": "python",
   "name": "python3"
  },
  "language_info": {
   "codemirror_mode": {
    "name": "ipython",
    "version": 3
   },
   "file_extension": ".py",
   "mimetype": "text/x-python",
   "name": "python",
   "nbconvert_exporter": "python",
   "pygments_lexer": "ipython3",
   "version": "3.8.18"
  }
 },
 "nbformat": 4,
 "nbformat_minor": 5
}
