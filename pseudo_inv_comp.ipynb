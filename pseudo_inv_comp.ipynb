{
 "cells": [
  {
   "cell_type": "code",
   "execution_count": null,
   "id": "17810f81",
   "metadata": {},
   "outputs": [],
   "source": [
    "from __future__ import annotations\n",
    "import numpy as np\n",
    "import random\n",
    "import copy\n",
    "import importlib\n",
    "\n",
    "from typing import Tuple, List\n",
    "from numpy import array, zeros\n",
    "from matplotlib import pyplot as plt\n",
    "\n",
    "# from Big_Class import Big_Class  # already imported one NETfuncs is imported\n",
    "from User_Variables import User_Variables  # already imported one NETfuncs is imported\n",
    "from Network_Structure import Network_Structure  # already imported one NETfuncs is imported\n",
    "from Big_Class import Big_Class\n",
    "from Network_State import Network_State\n",
    "from Networkx_Net import Networkx_Net\n",
    "import matrix_functions, functions, statistics, colors, plot_functions"
   ]
  },
  {
   "cell_type": "markdown",
   "id": "1d2ed85a",
   "metadata": {},
   "source": [
    "## Colors"
   ]
  },
  {
   "cell_type": "code",
   "execution_count": null,
   "id": "3471f1a1",
   "metadata": {},
   "outputs": [],
   "source": [
    "colors_lst, red, cmap = colors.color_scheme()\n",
    "cmap"
   ]
  },
  {
   "cell_type": "markdown",
   "id": "a8a6bae8",
   "metadata": {},
   "source": [
    "## Prelims"
   ]
  },
  {
   "cell_type": "code",
   "execution_count": null,
   "id": "0c8d111a",
   "metadata": {},
   "outputs": [],
   "source": [
    "## Parameters\n",
    "\n",
    "Nin = 2\n",
    "Nout = 3\n",
    "\n",
    "## task type\n",
    "task_type='Regression'\n",
    "\n",
    "# extra nodes\n",
    "extraNin: int = 0\n",
    "Ninter: int = 0\n",
    "extraNout: int = 0\n",
    "\n",
    "# resistance-pressure proportionality factor\n",
    "gamma: np.ndarray = np.array([1.0])\n",
    "\n",
    "## method to update resistances - physical property of the system\n",
    "R_update: str = 'R_propto_dp'\n",
    "# R_update: str = 'deltaR_propto_dp'\n",
    "# R_update: str = 'deltaR_propto_Q'\n",
    "# R_update: str = 'deltaR_propto_Power'\n",
    "R_vec_i = array([1.])\n",
    "\n",
    "stay_sample: int = 2\n",
    "\n",
    "# length of training dataset\n",
    "iterations = int(2e4)  # number of sampled of p\n",
    "\n",
    "stay_sample = 2\n",
    "\n",
    "# measure accuracy every # steps\n",
    "measure_accuracy_every = 15\n",
    "\n",
    "supress_prints: bool = True  # whether to print information during training or not\n",
    "bc_noise: float = 0.0  # noise to dual problem\n",
    "use_p_tag: bool = False  # use 1 or 2 sampled pressures at every time step\n",
    "include_Power: bool = False\n",
    "lam: float = 0\n",
    "    \n",
    "access_interNodes: bool = False  # access and change pressure at interNodes (nodes between input and output) or not\n",
    "noise_to_extra: bool = False  # add noise to extra outputs \n",
    "    \n",
    "window_for_mean = 1000\n",
    "    \n",
    "alpha: float = 0.2  # for network combine attempt"
   ]
  },
  {
   "cell_type": "markdown",
   "id": "26408c5d",
   "metadata": {},
   "source": [
    "## funcs"
   ]
  },
  {
   "cell_type": "code",
   "execution_count": null,
   "id": "7e00bdfb",
   "metadata": {},
   "outputs": [],
   "source": [
    "def network_build_given_Nin_Nout(Nin: int, Nout: int, M_norm: NDArray[np.float_]) -> tuple():\n",
    "    \n",
    "    # initialize Variables\n",
    "    Variabs = User_Variables(dataset_size,\\\n",
    "                             Nin, \\\n",
    "                             extraNin, \\\n",
    "                             Ninter, \\\n",
    "                             Nout, \\\n",
    "                             extraNout, \\\n",
    "                             gamma, \\\n",
    "                             R_update, \\\n",
    "                             use_p_tag, \\\n",
    "                             include_Power, lam, \\\n",
    "                             supress_prints, \\\n",
    "                             bc_noise, \\\n",
    "                             access_interNodes, \\\n",
    "                             task_type, \\\n",
    "                             measure_accuracy_every)\n",
    "    \n",
    "    Variabs.assign_alpha_vec(alpha)\n",
    "    Variabs.create_dataset_and_targets(rand_state, M_norm[:])\n",
    "    Variabs.create_noise_for_extras()\n",
    "    BigClass = Big_Class(Variabs)\n",
    "        \n",
    "    # initialize Structure\n",
    "    inInterOutGround_tuple = matrix_functions.build_input_output_and_ground(Variabs.Nin, Variabs.extraNin, Variabs.Ninter, \n",
    "                                                                            Variabs.Nout, Variabs.extraNout)\n",
    "        \n",
    "    \n",
    "    Strctr = Network_Structure(inInterOutGround_tuple)\n",
    "    Strctr.build_incidence()\n",
    "    Strctr.build_edges()\n",
    "    BigClass.add_Strctr(Strctr)  # add to big class\n",
    "    \n",
    "    # initialize State    \n",
    "    State = Network_State(Variabs)\n",
    "    State.initiate_resistances(BigClass, R_vec_i)\n",
    "    State.initiate_accuracy_vec(BigClass, measure_accuracy_every)\n",
    "    BigClass.add_State(State)  # add to big class\n",
    "    \n",
    "    return Variabs, Strctr, State, BigClass\n",
    "\n",
    "\n",
    "def train_loop(Variabs, Strctr, State, BigClass):\n",
    "    loss_mean = [1, 1]\n",
    "    for l in range(iterations):\n",
    "        \n",
    "        k = (l//stay_sample)*2 + l%2\n",
    "\n",
    "        # draw input and desired outputs from dataset\n",
    "        if not((l+1) % 4):  # add noise only at i=3 etc.\n",
    "            State.draw_p_in_and_desired(Variabs, k, noise_to_extra=False)  # add noise to extra nodes every 2nd iteration\n",
    "            State.solve_flow_given_problem(BigClass, \"measure\", noise_to_extra=False)  # measure and don't change resistances\n",
    "        else:  # dont add noise to extra nodes\n",
    "            State.draw_p_in_and_desired(Variabs, k)\n",
    "            State.solve_flow_given_problem(BigClass, \"measure\")\n",
    "\n",
    "        if not l % 2:  # even iterations, take another sampled pressure and measure again\n",
    "            pass\n",
    "        else:  # odd iterations, go to dual problem and update resistances\n",
    "            State.t += 1\n",
    "            State.calc_loss(BigClass)\n",
    "            State.update_input_dual(BigClass)\n",
    "            State.update_output_dual(BigClass)\n",
    "            State.solve_flow_given_problem(BigClass, \"dual\", access_inters=False)  # measure and don't change resistances\n",
    "            State.update_Rs(BigClass)\n",
    "            \n",
    "        if not (l+1)%window_for_mean:\n",
    "            # print('l', l)\n",
    "            loss_mean.append(np.mean(np.mean(np.abs(State.loss_norm_in_t[-window_for_mean:]), axis=1)))\n",
    "            # print(loss_mean)\n",
    "            \n",
    "        if loss_mean[-1]<10e-10 or (loss_mean[-1]-loss_mean[-2])>0 or loss_mean[-1]>2:\n",
    "            break\n",
    "            \n",
    "    return State\n",
    "\n",
    "def plot_bars_Mvals(M_norm, M_pinv, M_networksol):\n",
    "    # Flatten the matrices to get individual entries\n",
    "    M_norm_flat = M_norm.flatten()\n",
    "    M_pinv_flat = M_pinv.flatten()\n",
    "    M_networksol_flat = M_networksol.flatten()\n",
    "\n",
    "    # Create a figure and axis\n",
    "    fig, ax = plt.subplots()\n",
    "\n",
    "    # The number of groups\n",
    "    n_vals = np.size(M_norm_flat)\n",
    "\n",
    "    # Bar width\n",
    "    bar_width = 0.2\n",
    "\n",
    "    # X locations for the groups\n",
    "    index = np.arange(n_vals)\n",
    "\n",
    "    # Plot bars for each matrix, offsetting them slightly for grouped appearance\n",
    "    bar1 = ax.bar(index - bar_width, M_pinv_flat, bar_width, label='M psuedo inv', color=colors_lst[0])\n",
    "    bar2 = ax.bar(index, M_norm_flat, bar_width, label='M Normalized', color=colors_lst[1])\n",
    "    bar3 = ax.bar(index + bar_width, M_networksol_flat, bar_width, label='M Network Solution', color=colors_lst[2])\n",
    "\n",
    "    # Add labels, title, and axes ticks\n",
    "    ax.set_ylabel('M Values')\n",
    "    ax.set_xticks(index)\n",
    "\n",
    "    # Add a legend\n",
    "    ax.legend()\n",
    "\n",
    "    # Display the plot\n",
    "    plt.show()"
   ]
  },
  {
   "cell_type": "markdown",
   "id": "53abf169",
   "metadata": {},
   "source": [
    "## M"
   ]
  },
  {
   "cell_type": "code",
   "execution_count": null,
   "id": "6f834ce4",
   "metadata": {},
   "outputs": [],
   "source": [
    "rand_state=array([43])\n",
    "\n",
    "M_values = matrix_functions.random_gen_M(rand_state[0], Nout*Nin)\n",
    "M = M_values[0:Nout*Nin].reshape(Nout, Nin)\n",
    "M_line = np.sum(M, axis=1)\n",
    "M_norm = M[:Nin*Nout]/np.max(M_line)*0.75  # normalize so max sum over line will be 0.75\n",
    "\n",
    "print('M_norm')\n",
    "print(M_norm)"
   ]
  },
  {
   "cell_type": "markdown",
   "id": "2be3057c",
   "metadata": {},
   "source": [
    "## X"
   ]
  },
  {
   "cell_type": "code",
   "execution_count": null,
   "id": "b5ff7a96",
   "metadata": {},
   "outputs": [],
   "source": [
    "X_values = matrix_functions.random_gen_M(rand_state, Nin*Nin)  # take random samples of pressure\n",
    "X = X_values.reshape(Nin, Nin)"
   ]
  },
  {
   "cell_type": "markdown",
   "id": "0d83d887",
   "metadata": {},
   "source": [
    "## Multiple redundancies"
   ]
  },
  {
   "cell_type": "code",
   "execution_count": null,
   "id": "2cefb02d",
   "metadata": {
    "scrolled": false
   },
   "outputs": [],
   "source": [
    "pinv_goodness_vec = zeros(Nin)\n",
    "network_goodness_vec = zeros(Nin)\n",
    "\n",
    "for i in range(Nin):\n",
    "    redundancy = i\n",
    "    dataset_size = np.shape(X)[0]-redundancy  # change num of samples accordingly\n",
    "    \n",
    "    # handicap X\n",
    "    for j in range(redundancy):\n",
    "        X[j+1,:] = X[0,:]  # last sample is the same as one before, overdetermined set of equations\n",
    "\n",
    "    # desired\n",
    "    Y = np.matmul(X,M_norm.T)  # sized NoutxNin\n",
    "    \n",
    "    # Pseudo Inverse\n",
    "    M_pinv = np.matmul(np.linalg.pinv(X),Y).T\n",
    "    \n",
    "    # Network\n",
    "    Variabs, Strctr, State, BigClass = network_build_given_Nin_Nout(Nin, Nout, M_norm.ravel())\n",
    "    State = train_loop(Variabs, Strctr, State, BigClass)\n",
    "    plot_functions.plot_importants(State, Variabs, State.desired_in_t, Variabs.M, include_network=True)\n",
    "    \n",
    "    # extract solved M using only a single input of 1 at every time\n",
    "    M_networksol = zeros([Nout, Nin])\n",
    "    for j in range(Nin):\n",
    "        State.input_drawn = zeros(Nin)\n",
    "        State.input_drawn[j] = 1\n",
    "        State.solve_flow_given_problem(BigClass, \"measure\", noise_to_extra=False)\n",
    "        M_networksol[:,j] = State.output\n",
    "        \n",
    "    plot_bars_Mvals(M_norm, M_pinv, M_networksol)\n",
    "    \n",
    "    pinv_goodness = np.mean((M_norm.flatten() - M_pinv.flatten()) ** 2)/np.mean((M_norm.flatten()) ** 2)\n",
    "    network_goodness = np.mean((M_norm.flatten() - M_networksol.flatten()) ** 2)/np.mean((M_norm.flatten()) ** 2)\n",
    "\n",
    "    print('pinv goodness', pinv_goodness)\n",
    "    print('network goodness', network_goodness)\n",
    "    \n",
    "    pinv_goodness_vec[i] = pinv_goodness\n",
    "    network_goodness_vec[i] = network_goodness"
   ]
  },
  {
   "cell_type": "code",
   "execution_count": null,
   "id": "1a915be5",
   "metadata": {},
   "outputs": [],
   "source": [
    "plt.plot(Nin-np.arange(Nin), pinv_goodness_vec, color=colors_lst[0])\n",
    "plt.plot(Nin-np.arange(Nin), network_goodness_vec, color=colors_lst[1])\n",
    "plt.legend(['pseudo inverse', 'network'])\n",
    "plt.ylabel('MSE badness')\n",
    "plt.xlabel('dataset size')\n",
    "plt.show()"
   ]
  },
  {
   "cell_type": "markdown",
   "id": "cbaab91d",
   "metadata": {},
   "source": [
    "## Desired"
   ]
  },
  {
   "cell_type": "code",
   "execution_count": null,
   "id": "87fa93c8",
   "metadata": {},
   "outputs": [],
   "source": [
    "Y = np.matmul(X,M_norm.T)  # sized NoutxNin\n",
    "\n",
    "print(Y)"
   ]
  },
  {
   "cell_type": "markdown",
   "id": "af62837f",
   "metadata": {},
   "source": [
    "## Pseudo inv"
   ]
  },
  {
   "cell_type": "markdown",
   "id": "a4e807fe",
   "metadata": {},
   "source": [
    "finding M from inputs X and deisred outputs Y where the last two lines of X are the same, so overdetermined set of equations"
   ]
  },
  {
   "cell_type": "code",
   "execution_count": null,
   "id": "5384898e",
   "metadata": {},
   "outputs": [],
   "source": [
    "M_pinv = np.matmul(np.linalg.pinv(X),Y).T\n",
    "\n",
    "print('M pseudo inv')\n",
    "print(M_pinv)"
   ]
  },
  {
   "cell_type": "markdown",
   "id": "60a4b48a",
   "metadata": {},
   "source": [
    "## Network solution"
   ]
  },
  {
   "cell_type": "code",
   "execution_count": null,
   "id": "3e5cbcfb",
   "metadata": {},
   "outputs": [],
   "source": [
    "# solve the network\n",
    "Variabs, Strctr, State, BigClass = network_build_given_Nin_Nout(Nin, Nout, M_norm.ravel())\n",
    "State = train_loop(Variabs, Strctr, State, BigClass)"
   ]
  },
  {
   "cell_type": "code",
   "execution_count": null,
   "id": "ded68f8e",
   "metadata": {},
   "outputs": [],
   "source": [
    "plot_functions.plot_importants(State, Variabs, State.desired_in_t, Variabs.M, include_network=True)"
   ]
  },
  {
   "cell_type": "code",
   "execution_count": null,
   "id": "a7357870",
   "metadata": {},
   "outputs": [],
   "source": [
    "# extract solved M using only a single input of 1 at every time\n",
    "M_networksol = zeros([Nout, Nin])\n",
    "for i in range(Nin):\n",
    "    State.input_drawn = zeros(Nin)\n",
    "    State.input_drawn[i] = 1\n",
    "    State.solve_flow_given_problem(BigClass, \"measure\", noise_to_extra=False)\n",
    "    M_networksol[:,i] = State.output"
   ]
  },
  {
   "cell_type": "code",
   "execution_count": null,
   "id": "27c5ba55",
   "metadata": {},
   "outputs": [],
   "source": [
    "State.R_in_t[0]"
   ]
  },
  {
   "cell_type": "code",
   "execution_count": null,
   "id": "f33d413a",
   "metadata": {},
   "outputs": [],
   "source": [
    "plt.plot(np.mean(np.mean(np.abs(State.loss_norm_in_t), axis=1), axis=1))\n",
    "plt.ylabel('Loss')\n",
    "plt.xlabel(r'$t$')"
   ]
  },
  {
   "cell_type": "code",
   "execution_count": null,
   "id": "0a4cc265",
   "metadata": {},
   "outputs": [],
   "source": [
    "print('M (norm)')\n",
    "print(M_norm)\n",
    "\n",
    "print('M pseudo inv')\n",
    "print(M_pinv)\n",
    "\n",
    "print('M network solution')\n",
    "print(M_networksol)"
   ]
  },
  {
   "cell_type": "code",
   "execution_count": null,
   "id": "b3f22c26",
   "metadata": {},
   "outputs": [],
   "source": [
    "# Flatten the matrices to get individual entries\n",
    "M_norm_flat = M_norm.flatten()\n",
    "M_pinv_flat = M_pinv.flatten()\n",
    "M_networksol_flat = M_networksol.flatten()\n",
    "\n",
    "# Create a figure and axis\n",
    "fig, ax = plt.subplots()\n",
    "\n",
    "# The number of groups\n",
    "n_vals = np.size(M_norm_flat)\n",
    "\n",
    "# Bar width\n",
    "bar_width = 0.2\n",
    "\n",
    "# X locations for the groups\n",
    "index = np.arange(n_vals)\n",
    "\n",
    "# Plot bars for each matrix, offsetting them slightly for grouped appearance\n",
    "bar1 = ax.bar(index - bar_width, M_pinv_flat, bar_width, label='M psuedo inv', color=colors_lst[0])\n",
    "bar2 = ax.bar(index, M_norm_flat, bar_width, label='M Normalized', color=colors_lst[1])\n",
    "bar3 = ax.bar(index + bar_width, M_networksol_flat, bar_width, label='M Network Solution', color=colors_lst[2])\n",
    "\n",
    "# Add labels, title, and axes ticks\n",
    "ax.set_ylabel('M Values')\n",
    "ax.set_xticks(index)\n",
    "\n",
    "# Add a legend\n",
    "ax.legend()\n",
    "\n",
    "# Display the plot\n",
    "plt.show()"
   ]
  },
  {
   "cell_type": "code",
   "execution_count": null,
   "id": "81817452",
   "metadata": {},
   "outputs": [],
   "source": [
    "pinv_goodness = np.mean((M_norm_flat - M_pinv_flat) ** 2)/np.mean((M_norm_flat) ** 2)\n",
    "network_goodness = np.mean((M_norm_flat - M_networksol_flat) ** 2)/np.mean((M_norm_flat) ** 2)\n",
    "\n",
    "print('pinv goodness', pinv_goodness)\n",
    "print('network goodness', network_goodness)"
   ]
  },
  {
   "cell_type": "code",
   "execution_count": null,
   "id": "55b28579",
   "metadata": {},
   "outputs": [],
   "source": []
  }
 ],
 "metadata": {
  "kernelspec": {
   "display_name": "Python 3 (ipykernel)",
   "language": "python",
   "name": "python3"
  },
  "language_info": {
   "codemirror_mode": {
    "name": "ipython",
    "version": 3
   },
   "file_extension": ".py",
   "mimetype": "text/x-python",
   "name": "python",
   "nbconvert_exporter": "python",
   "pygments_lexer": "ipython3",
   "version": "3.8.18"
  }
 },
 "nbformat": 4,
 "nbformat_minor": 5
}
